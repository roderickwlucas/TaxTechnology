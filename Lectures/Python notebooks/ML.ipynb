{
  "nbformat": 4,
  "nbformat_minor": 0,
  "metadata": {
    "colab": {
      "name": "ML.ipynb",
      "version": "0.3.2",
      "provenance": [],
      "collapsed_sections": []
    },
    "kernelspec": {
      "name": "python3",
      "display_name": "Python 3"
    }
  },
  "cells": [
    {
      "cell_type": "markdown",
      "metadata": {
        "id": "CD0oC5y0uM0Q",
        "colab_type": "text"
      },
      "source": [
        "# Load in data"
      ]
    },
    {
      "cell_type": "code",
      "metadata": {
        "id": "ijpx7x73Pkqh",
        "colab_type": "code",
        "outputId": "2081876d-834e-4cad-89ac-833bb21a32bd",
        "colab": {
          "base_uri": "https://localhost:8080/",
          "height": 51
        }
      },
      "source": [
        "# Geeky stuff\n",
        "import warnings\n",
        "from sklearn.exceptions import DataConversionWarning\n",
        "warnings.simplefilter(action='ignore', category=FutureWarning)\n",
        "warnings.simplefilter(action='ignore', category=DataConversionWarning)\n",
        "\n",
        "from sklearn.metrics import accuracy_score\n",
        "from sklearn.metrics import confusion_matrix\n",
        "\n",
        "\n",
        "# the 'excel'-module\n",
        "import pandas as pd\n",
        "\n",
        "# data urls\n",
        "X_url = \"https://raw.githubusercontent.com/roderickwlucas/TaxTechnology/master/Lectures/ML/X.csv\"\n",
        "y_url = \"https://raw.githubusercontent.com/roderickwlucas/TaxTechnology/master/Lectures/ML/y.csv\"\n",
        "\n",
        "# retrieve the data\n",
        "X = pd.read_csv(X_url, sep=';')\n",
        "y = pd.read_csv(y_url, sep=';')\n",
        "\n",
        "# print the shape\n",
        "print('X shape', X.shape)\n",
        "print('y shape', y.shape)"
      ],
      "execution_count": 0,
      "outputs": [
        {
          "output_type": "stream",
          "text": [
            "X shape (1309, 27)\n",
            "y shape (1309, 1)\n"
          ],
          "name": "stdout"
        }
      ]
    },
    {
      "cell_type": "markdown",
      "metadata": {
        "id": "ghXzrewNwRYD",
        "colab_type": "text"
      },
      "source": [
        "# Split data into Train & Test"
      ]
    },
    {
      "cell_type": "code",
      "metadata": {
        "id": "QE65bod_haTT",
        "colab_type": "code",
        "outputId": "2b3f1070-d7c6-4941-96ed-d4b45da60ed7",
        "colab": {
          "base_uri": "https://localhost:8080/",
          "height": 85
        }
      },
      "source": [
        "# Train-test split module\n",
        "from sklearn.model_selection import train_test_split\n",
        "\n",
        "# split up the data\n",
        "X_train, X_test, y_train, y_test = train_test_split(X, y, test_size=0.33, random_state=42)\n",
        "\n",
        "print('X_train', X_train.shape)\n",
        "print('y_train', y_train.shape)\n",
        "print('X_test', X_test.shape)\n",
        "print('y_test', y_test.shape)"
      ],
      "execution_count": 0,
      "outputs": [
        {
          "output_type": "stream",
          "text": [
            "X_train (877, 27)\n",
            "y_train (877, 1)\n",
            "X_test (432, 27)\n",
            "y_test (432, 1)\n"
          ],
          "name": "stdout"
        }
      ]
    },
    {
      "cell_type": "markdown",
      "metadata": {
        "id": "62F-tGp7wVUG",
        "colab_type": "text"
      },
      "source": [
        "# Linear Regression"
      ]
    },
    {
      "cell_type": "code",
      "metadata": {
        "id": "jNR3PDvtTRcz",
        "colab_type": "code",
        "colab": {}
      },
      "source": [
        "# Import logistic regression\n",
        "from sklearn.linear_model import LogisticRegression\n",
        "\n",
        "# Load model\n",
        "clf = LogisticRegression()\n",
        "\n",
        "# Train the model\n",
        "clf = clf.fit(X_train, y_train)\n",
        "\n",
        "# predict test set with trained model\n",
        "predict = clf.predict(X_test)"
      ],
      "execution_count": 0,
      "outputs": []
    },
    {
      "cell_type": "code",
      "metadata": {
        "id": "-EB9ftYGkfkX",
        "colab_type": "code",
        "outputId": "67e70baf-ce37-4380-8667-43a4aacbf67f",
        "colab": {
          "base_uri": "https://localhost:8080/",
          "height": 34
        }
      },
      "source": [
        "accuracy_score(y_test, predict)"
      ],
      "execution_count": 0,
      "outputs": [
        {
          "output_type": "execute_result",
          "data": {
            "text/plain": [
              "0.625"
            ]
          },
          "metadata": {
            "tags": []
          },
          "execution_count": 37
        }
      ]
    },
    {
      "cell_type": "code",
      "metadata": {
        "id": "LyHVS7W4k6xq",
        "colab_type": "code",
        "outputId": "1e658738-b484-4e20-ef63-8531f2e5d443",
        "colab": {
          "base_uri": "https://localhost:8080/",
          "height": 51
        }
      },
      "source": [
        "confusion_matrix(y_test, predict)"
      ],
      "execution_count": 0,
      "outputs": [
        {
          "output_type": "execute_result",
          "data": {
            "text/plain": [
              "array([[ 34, 144],\n",
              "       [ 18, 236]])"
            ]
          },
          "metadata": {
            "tags": []
          },
          "execution_count": 38
        }
      ]
    },
    {
      "cell_type": "markdown",
      "metadata": {
        "id": "l67cC_gJwofD",
        "colab_type": "text"
      },
      "source": [
        "# Naive Bayes"
      ]
    },
    {
      "cell_type": "code",
      "metadata": {
        "id": "ovpoe4H3syRq",
        "colab_type": "code",
        "colab": {}
      },
      "source": [
        "from sklearn.naive_bayes import GaussianNB\n",
        "\n",
        "clf = GaussianNB()\n",
        "clf = clf.fit(X_train, y_train)\n",
        "\n",
        "predict = clf.predict(X_test)\n",
        "\n",
        "accuracy_score(y_test, predict)"
      ],
      "execution_count": 0,
      "outputs": []
    },
    {
      "cell_type": "markdown",
      "metadata": {
        "id": "wmt_WXi0wuBo",
        "colab_type": "text"
      },
      "source": [
        "#Neural Networks"
      ]
    },
    {
      "cell_type": "code",
      "metadata": {
        "id": "hXpmrm3u41h8",
        "colab_type": "code",
        "outputId": "9e70dd74-8a31-4889-da44-c6326cd8fe35",
        "colab": {
          "base_uri": "https://localhost:8080/",
          "height": 34
        }
      },
      "source": [
        "from sklearn.neural_network import MLPClassifier\n",
        "\n",
        "clf = MLPClassifier(hidden_layer_sizes=1, activation='logistic')\n",
        "\n",
        "clf = clf.fit(X_train, y_train)\n",
        "\n",
        "predict = clf.predict(X_test)\n",
        "\n",
        "accuracy_score(y_test, predict)"
      ],
      "execution_count": 0,
      "outputs": [
        {
          "output_type": "execute_result",
          "data": {
            "text/plain": [
              "0.5462962962962963"
            ]
          },
          "metadata": {
            "tags": []
          },
          "execution_count": 39
        }
      ]
    },
    {
      "cell_type": "markdown",
      "metadata": {
        "id": "VfqqD9eMxCe8",
        "colab_type": "text"
      },
      "source": [
        "# Decision Tree"
      ]
    },
    {
      "cell_type": "code",
      "metadata": {
        "id": "YCpoOJNLmq6w",
        "colab_type": "code",
        "outputId": "dec75e50-b8fa-4457-a823-176ce9da5d5e",
        "colab": {
          "base_uri": "https://localhost:8080/",
          "height": 34
        }
      },
      "source": [
        "from sklearn import tree\n",
        "\n",
        "clf = tree.DecisionTreeClassifier(max_depth=5)\n",
        "clf = clf.fit(X_train, y_train)\n",
        "\n",
        "predict = clf.predict(X_test)\n",
        "\n",
        "accuracy_score(y_test, predict)"
      ],
      "execution_count": 0,
      "outputs": [
        {
          "output_type": "execute_result",
          "data": {
            "text/plain": [
              "0.7615740740740741"
            ]
          },
          "metadata": {
            "tags": []
          },
          "execution_count": 44
        }
      ]
    },
    {
      "cell_type": "code",
      "metadata": {
        "id": "F_15VidvnJ4e",
        "colab_type": "code",
        "outputId": "2d4aa4ab-17fb-4d9d-b0b3-9eea773734e5",
        "colab": {
          "base_uri": "https://localhost:8080/",
          "height": 935
        }
      },
      "source": [
        "import graphviz\n",
        "\n",
        "dot_data = tree.export_graphviz(clf, out_file=None, \n",
        "                     feature_names=X_train.columns,  \n",
        "                     class_names=['0', '1'],  \n",
        "                     filled=True, rounded=True,  \n",
        "                     special_characters=True)  \n",
        "\n",
        "graph = graphviz.Source(dot_data)  \n",
        "\n",
        "graph "
      ],
      "execution_count": 0,
      "outputs": [
        {
          "output_type": "execute_result",
          "data": {
            "text/plain": [
              "<graphviz.files.Source at 0x7f05dc1c7e80>"
            ],
            "image/svg+xml": "<?xml version=\"1.0\" encoding=\"UTF-8\" standalone=\"no\"?>\n<!DOCTYPE svg PUBLIC \"-//W3C//DTD SVG 1.1//EN\"\n \"http://www.w3.org/Graphics/SVG/1.1/DTD/svg11.dtd\">\n<!-- Generated by graphviz version 2.40.1 (20161225.0304)\n -->\n<!-- Title: Tree Pages: 1 -->\n<svg width=\"2929pt\" height=\"671pt\"\n viewBox=\"0.00 0.00 2929.00 671.00\" xmlns=\"http://www.w3.org/2000/svg\" xmlns:xlink=\"http://www.w3.org/1999/xlink\">\n<g id=\"graph0\" class=\"graph\" transform=\"scale(1 1) rotate(0) translate(4 667)\">\n<title>Tree</title>\n<polygon fill=\"#ffffff\" stroke=\"transparent\" points=\"-4,4 -4,-667 2925,-667 2925,4 -4,4\"/>\n<!-- 0 -->\n<g id=\"node1\" class=\"node\">\n<title>0</title>\n<path fill=\"#acd6f4\" stroke=\"#000000\" d=\"M1407.5,-663C1407.5,-663 1299.5,-663 1299.5,-663 1293.5,-663 1287.5,-657 1287.5,-651 1287.5,-651 1287.5,-592 1287.5,-592 1287.5,-586 1293.5,-580 1299.5,-580 1299.5,-580 1407.5,-580 1407.5,-580 1413.5,-580 1419.5,-586 1419.5,-592 1419.5,-592 1419.5,-651 1419.5,-651 1419.5,-657 1413.5,-663 1407.5,-663\"/>\n<text text-anchor=\"start\" x=\"1304\" y=\"-647.8\" font-family=\"Helvetica,sans-Serif\" font-size=\"14.00\" fill=\"#000000\">sex_male ≤ 0.5</text>\n<text text-anchor=\"start\" x=\"1315.5\" y=\"-632.8\" font-family=\"Helvetica,sans-Serif\" font-size=\"14.00\" fill=\"#000000\">gini = 0.465</text>\n<text text-anchor=\"start\" x=\"1305.5\" y=\"-617.8\" font-family=\"Helvetica,sans-Serif\" font-size=\"14.00\" fill=\"#000000\">samples = 877</text>\n<text text-anchor=\"start\" x=\"1295.5\" y=\"-602.8\" font-family=\"Helvetica,sans-Serif\" font-size=\"14.00\" fill=\"#000000\">value = [322, 555]</text>\n<text text-anchor=\"start\" x=\"1324.5\" y=\"-587.8\" font-family=\"Helvetica,sans-Serif\" font-size=\"14.00\" fill=\"#000000\">class = 1</text>\n</g>\n<!-- 1 -->\n<g id=\"node2\" class=\"node\">\n<title>1</title>\n<path fill=\"#f0b78e\" stroke=\"#000000\" d=\"M1135,-544C1135,-544 1028,-544 1028,-544 1022,-544 1016,-538 1016,-532 1016,-532 1016,-473 1016,-473 1016,-467 1022,-461 1028,-461 1028,-461 1135,-461 1135,-461 1141,-461 1147,-467 1147,-473 1147,-473 1147,-532 1147,-532 1147,-538 1141,-544 1135,-544\"/>\n<text text-anchor=\"start\" x=\"1024\" y=\"-528.8\" font-family=\"Helvetica,sans-Serif\" font-size=\"14.00\" fill=\"#000000\">social_class ≤ 2.5</text>\n<text text-anchor=\"start\" x=\"1043.5\" y=\"-513.8\" font-family=\"Helvetica,sans-Serif\" font-size=\"14.00\" fill=\"#000000\">gini = 0.421</text>\n<text text-anchor=\"start\" x=\"1033.5\" y=\"-498.8\" font-family=\"Helvetica,sans-Serif\" font-size=\"14.00\" fill=\"#000000\">samples = 315</text>\n<text text-anchor=\"start\" x=\"1027.5\" y=\"-483.8\" font-family=\"Helvetica,sans-Serif\" font-size=\"14.00\" fill=\"#000000\">value = [220, 95]</text>\n<text text-anchor=\"start\" x=\"1052.5\" y=\"-468.8\" font-family=\"Helvetica,sans-Serif\" font-size=\"14.00\" fill=\"#000000\">class = 0</text>\n</g>\n<!-- 0&#45;&gt;1 -->\n<g id=\"edge1\" class=\"edge\">\n<title>0&#45;&gt;1</title>\n<path fill=\"none\" stroke=\"#000000\" d=\"M1287.3091,-592.5415C1247.7736,-575.2447 1197.4395,-553.2235 1156.4452,-535.2885\"/>\n<polygon fill=\"#000000\" stroke=\"#000000\" points=\"1157.6094,-531.9776 1147.045,-531.1759 1154.8037,-538.3907 1157.6094,-531.9776\"/>\n<text text-anchor=\"middle\" x=\"1156.1549\" y=\"-550.757\" font-family=\"Helvetica,sans-Serif\" font-size=\"14.00\" fill=\"#000000\">True</text>\n</g>\n<!-- 28 -->\n<g id=\"node29\" class=\"node\">\n<title>28</title>\n<path fill=\"#65b3eb\" stroke=\"#000000\" d=\"M1713.5,-544C1713.5,-544 1605.5,-544 1605.5,-544 1599.5,-544 1593.5,-538 1593.5,-532 1593.5,-532 1593.5,-473 1593.5,-473 1593.5,-467 1599.5,-461 1605.5,-461 1605.5,-461 1713.5,-461 1713.5,-461 1719.5,-461 1725.5,-467 1725.5,-473 1725.5,-473 1725.5,-532 1725.5,-532 1725.5,-538 1719.5,-544 1713.5,-544\"/>\n<text text-anchor=\"start\" x=\"1629\" y=\"-528.8\" font-family=\"Helvetica,sans-Serif\" font-size=\"14.00\" fill=\"#000000\">age ≤ 9.5</text>\n<text text-anchor=\"start\" x=\"1621.5\" y=\"-513.8\" font-family=\"Helvetica,sans-Serif\" font-size=\"14.00\" fill=\"#000000\">gini = 0.297</text>\n<text text-anchor=\"start\" x=\"1611.5\" y=\"-498.8\" font-family=\"Helvetica,sans-Serif\" font-size=\"14.00\" fill=\"#000000\">samples = 562</text>\n<text text-anchor=\"start\" x=\"1601.5\" y=\"-483.8\" font-family=\"Helvetica,sans-Serif\" font-size=\"14.00\" fill=\"#000000\">value = [102, 460]</text>\n<text text-anchor=\"start\" x=\"1630.5\" y=\"-468.8\" font-family=\"Helvetica,sans-Serif\" font-size=\"14.00\" fill=\"#000000\">class = 1</text>\n</g>\n<!-- 0&#45;&gt;28 -->\n<g id=\"edge28\" class=\"edge\">\n<title>0&#45;&gt;28</title>\n<path fill=\"none\" stroke=\"#000000\" d=\"M1419.5207,-595.8253C1467.7998,-577.0501 1533.3813,-551.5462 1583.7862,-531.9442\"/>\n<polygon fill=\"#000000\" stroke=\"#000000\" points=\"1585.2826,-535.1177 1593.3341,-528.2312 1582.7454,-528.5937 1585.2826,-535.1177\"/>\n<text text-anchor=\"middle\" x=\"1583.2656\" y=\"-547.4141\" font-family=\"Helvetica,sans-Serif\" font-size=\"14.00\" fill=\"#000000\">False</text>\n</g>\n<!-- 2 -->\n<g id=\"node3\" class=\"node\">\n<title>2</title>\n<path fill=\"#e78a47\" stroke=\"#000000\" d=\"M535,-425C535,-425 366,-425 366,-425 360,-425 354,-419 354,-413 354,-413 354,-354 354,-354 354,-348 360,-342 366,-342 366,-342 535,-342 535,-342 541,-342 547,-348 547,-354 547,-354 547,-413 547,-413 547,-419 541,-425 535,-425\"/>\n<text text-anchor=\"start\" x=\"362\" y=\"-409.8\" font-family=\"Helvetica,sans-Serif\" font-size=\"14.00\" fill=\"#000000\">annual_income ≤ 320896.0</text>\n<text text-anchor=\"start\" x=\"412.5\" y=\"-394.8\" font-family=\"Helvetica,sans-Serif\" font-size=\"14.00\" fill=\"#000000\">gini = 0.126</text>\n<text text-anchor=\"start\" x=\"402.5\" y=\"-379.8\" font-family=\"Helvetica,sans-Serif\" font-size=\"14.00\" fill=\"#000000\">samples = 163</text>\n<text text-anchor=\"start\" x=\"396.5\" y=\"-364.8\" font-family=\"Helvetica,sans-Serif\" font-size=\"14.00\" fill=\"#000000\">value = [152, 11]</text>\n<text text-anchor=\"start\" x=\"421.5\" y=\"-349.8\" font-family=\"Helvetica,sans-Serif\" font-size=\"14.00\" fill=\"#000000\">class = 0</text>\n</g>\n<!-- 1&#45;&gt;2 -->\n<g id=\"edge2\" class=\"edge\">\n<title>1&#45;&gt;2</title>\n<path fill=\"none\" stroke=\"#000000\" d=\"M1015.7576,-490.1017C906.9303,-469.578 688.3591,-428.3577 557.1877,-403.6202\"/>\n<polygon fill=\"#000000\" stroke=\"#000000\" points=\"557.5927,-400.1349 547.1173,-401.721 556.2954,-407.0137 557.5927,-400.1349\"/>\n</g>\n<!-- 13 -->\n<g id=\"node14\" class=\"node\">\n<title>13</title>\n<path fill=\"#d9ecfa\" stroke=\"#000000\" d=\"M1166,-425C1166,-425 997,-425 997,-425 991,-425 985,-419 985,-413 985,-413 985,-354 985,-354 985,-348 991,-342 997,-342 997,-342 1166,-342 1166,-342 1172,-342 1178,-348 1178,-354 1178,-354 1178,-413 1178,-413 1178,-419 1172,-425 1166,-425\"/>\n<text text-anchor=\"start\" x=\"993\" y=\"-409.8\" font-family=\"Helvetica,sans-Serif\" font-size=\"14.00\" fill=\"#000000\">annual_income ≤ 248083.5</text>\n<text text-anchor=\"start\" x=\"1043.5\" y=\"-394.8\" font-family=\"Helvetica,sans-Serif\" font-size=\"14.00\" fill=\"#000000\">gini = 0.494</text>\n<text text-anchor=\"start\" x=\"1033.5\" y=\"-379.8\" font-family=\"Helvetica,sans-Serif\" font-size=\"14.00\" fill=\"#000000\">samples = 152</text>\n<text text-anchor=\"start\" x=\"1031.5\" y=\"-364.8\" font-family=\"Helvetica,sans-Serif\" font-size=\"14.00\" fill=\"#000000\">value = [68, 84]</text>\n<text text-anchor=\"start\" x=\"1052.5\" y=\"-349.8\" font-family=\"Helvetica,sans-Serif\" font-size=\"14.00\" fill=\"#000000\">class = 1</text>\n</g>\n<!-- 1&#45;&gt;13 -->\n<g id=\"edge13\" class=\"edge\">\n<title>1&#45;&gt;13</title>\n<path fill=\"none\" stroke=\"#000000\" d=\"M1081.5,-460.8796C1081.5,-452.6838 1081.5,-443.9891 1081.5,-435.5013\"/>\n<polygon fill=\"#000000\" stroke=\"#000000\" points=\"1085.0001,-435.298 1081.5,-425.2981 1078.0001,-435.2981 1085.0001,-435.298\"/>\n</g>\n<!-- 3 -->\n<g id=\"node4\" class=\"node\">\n<title>3</title>\n<path fill=\"#e99558\" stroke=\"#000000\" d=\"M319,-306C319,-306 150,-306 150,-306 144,-306 138,-300 138,-294 138,-294 138,-235 138,-235 138,-229 144,-223 150,-223 150,-223 319,-223 319,-223 325,-223 331,-229 331,-235 331,-235 331,-294 331,-294 331,-300 325,-306 319,-306\"/>\n<text text-anchor=\"start\" x=\"146\" y=\"-290.8\" font-family=\"Helvetica,sans-Serif\" font-size=\"14.00\" fill=\"#000000\">annual_income ≤ 313396.0</text>\n<text text-anchor=\"start\" x=\"196.5\" y=\"-275.8\" font-family=\"Helvetica,sans-Serif\" font-size=\"14.00\" fill=\"#000000\">gini = 0.236</text>\n<text text-anchor=\"start\" x=\"190.5\" y=\"-260.8\" font-family=\"Helvetica,sans-Serif\" font-size=\"14.00\" fill=\"#000000\">samples = 66</text>\n<text text-anchor=\"start\" x=\"189\" y=\"-245.8\" font-family=\"Helvetica,sans-Serif\" font-size=\"14.00\" fill=\"#000000\">value = [57, 9]</text>\n<text text-anchor=\"start\" x=\"205.5\" y=\"-230.8\" font-family=\"Helvetica,sans-Serif\" font-size=\"14.00\" fill=\"#000000\">class = 0</text>\n</g>\n<!-- 2&#45;&gt;3 -->\n<g id=\"edge3\" class=\"edge\">\n<title>2&#45;&gt;3</title>\n<path fill=\"none\" stroke=\"#000000\" d=\"M374.9537,-341.8796C356.8668,-331.915 337.4411,-321.2129 318.9793,-311.0418\"/>\n<polygon fill=\"#000000\" stroke=\"#000000\" points=\"320.4513,-307.8568 310.0037,-306.0969 317.0735,-313.9879 320.4513,-307.8568\"/>\n</g>\n<!-- 8 -->\n<g id=\"node9\" class=\"node\">\n<title>8</title>\n<path fill=\"#e6843d\" stroke=\"#000000\" d=\"M492,-306C492,-306 409,-306 409,-306 403,-306 397,-300 397,-294 397,-294 397,-235 397,-235 397,-229 403,-223 409,-223 409,-223 492,-223 492,-223 498,-223 504,-229 504,-235 504,-235 504,-294 504,-294 504,-300 498,-306 492,-306\"/>\n<text text-anchor=\"start\" x=\"420\" y=\"-290.8\" font-family=\"Helvetica,sans-Serif\" font-size=\"14.00\" fill=\"#000000\">age ≤ 3.0</text>\n<text text-anchor=\"start\" x=\"417\" y=\"-275.8\" font-family=\"Helvetica,sans-Serif\" font-size=\"14.00\" fill=\"#000000\">gini = 0.04</text>\n<text text-anchor=\"start\" x=\"406.5\" y=\"-260.8\" font-family=\"Helvetica,sans-Serif\" font-size=\"14.00\" fill=\"#000000\">samples = 97</text>\n<text text-anchor=\"start\" x=\"405\" y=\"-245.8\" font-family=\"Helvetica,sans-Serif\" font-size=\"14.00\" fill=\"#000000\">value = [95, 2]</text>\n<text text-anchor=\"start\" x=\"421.5\" y=\"-230.8\" font-family=\"Helvetica,sans-Serif\" font-size=\"14.00\" fill=\"#000000\">class = 0</text>\n</g>\n<!-- 2&#45;&gt;8 -->\n<g id=\"edge8\" class=\"edge\">\n<title>2&#45;&gt;8</title>\n<path fill=\"none\" stroke=\"#000000\" d=\"M450.5,-341.8796C450.5,-333.6838 450.5,-324.9891 450.5,-316.5013\"/>\n<polygon fill=\"#000000\" stroke=\"#000000\" points=\"454.0001,-316.298 450.5,-306.2981 447.0001,-316.2981 454.0001,-316.298\"/>\n</g>\n<!-- 4 -->\n<g id=\"node5\" class=\"node\">\n<title>4</title>\n<path fill=\"#e99355\" stroke=\"#000000\" d=\"M155,-187C155,-187 72,-187 72,-187 66,-187 60,-181 60,-175 60,-175 60,-116 60,-116 60,-110 66,-104 72,-104 72,-104 155,-104 155,-104 161,-104 167,-110 167,-116 167,-116 167,-175 167,-175 167,-181 161,-187 155,-187\"/>\n<text text-anchor=\"start\" x=\"79\" y=\"-171.8\" font-family=\"Helvetica,sans-Serif\" font-size=\"14.00\" fill=\"#000000\">age ≤ 59.0</text>\n<text text-anchor=\"start\" x=\"75.5\" y=\"-156.8\" font-family=\"Helvetica,sans-Serif\" font-size=\"14.00\" fill=\"#000000\">gini = 0.216</text>\n<text text-anchor=\"start\" x=\"69.5\" y=\"-141.8\" font-family=\"Helvetica,sans-Serif\" font-size=\"14.00\" fill=\"#000000\">samples = 65</text>\n<text text-anchor=\"start\" x=\"68\" y=\"-126.8\" font-family=\"Helvetica,sans-Serif\" font-size=\"14.00\" fill=\"#000000\">value = [57, 8]</text>\n<text text-anchor=\"start\" x=\"84.5\" y=\"-111.8\" font-family=\"Helvetica,sans-Serif\" font-size=\"14.00\" fill=\"#000000\">class = 0</text>\n</g>\n<!-- 3&#45;&gt;4 -->\n<g id=\"edge4\" class=\"edge\">\n<title>3&#45;&gt;4</title>\n<path fill=\"none\" stroke=\"#000000\" d=\"M192.1801,-222.8796C182.8392,-213.6931 172.861,-203.8798 163.256,-194.4336\"/>\n<polygon fill=\"#000000\" stroke=\"#000000\" points=\"165.5845,-191.8146 156.0006,-187.2981 160.6762,-196.8054 165.5845,-191.8146\"/>\n</g>\n<!-- 7 -->\n<g id=\"node8\" class=\"node\">\n<title>7</title>\n<path fill=\"#399de5\" stroke=\"#000000\" d=\"M272,-179.5C272,-179.5 197,-179.5 197,-179.5 191,-179.5 185,-173.5 185,-167.5 185,-167.5 185,-123.5 185,-123.5 185,-117.5 191,-111.5 197,-111.5 197,-111.5 272,-111.5 272,-111.5 278,-111.5 284,-117.5 284,-123.5 284,-123.5 284,-167.5 284,-167.5 284,-173.5 278,-179.5 272,-179.5\"/>\n<text text-anchor=\"start\" x=\"205\" y=\"-164.3\" font-family=\"Helvetica,sans-Serif\" font-size=\"14.00\" fill=\"#000000\">gini = 0.0</text>\n<text text-anchor=\"start\" x=\"195\" y=\"-149.3\" font-family=\"Helvetica,sans-Serif\" font-size=\"14.00\" fill=\"#000000\">samples = 1</text>\n<text text-anchor=\"start\" x=\"193\" y=\"-134.3\" font-family=\"Helvetica,sans-Serif\" font-size=\"14.00\" fill=\"#000000\">value = [0, 1]</text>\n<text text-anchor=\"start\" x=\"205.5\" y=\"-119.3\" font-family=\"Helvetica,sans-Serif\" font-size=\"14.00\" fill=\"#000000\">class = 1</text>\n</g>\n<!-- 3&#45;&gt;7 -->\n<g id=\"edge7\" class=\"edge\">\n<title>3&#45;&gt;7</title>\n<path fill=\"none\" stroke=\"#000000\" d=\"M234.5,-222.8796C234.5,-212.2134 234.5,-200.7021 234.5,-189.9015\"/>\n<polygon fill=\"#000000\" stroke=\"#000000\" points=\"238.0001,-189.8149 234.5,-179.8149 231.0001,-189.815 238.0001,-189.8149\"/>\n</g>\n<!-- 5 -->\n<g id=\"node6\" class=\"node\">\n<title>5</title>\n<path fill=\"#e89051\" stroke=\"#000000\" d=\"M95,-68C95,-68 12,-68 12,-68 6,-68 0,-62 0,-56 0,-56 0,-12 0,-12 0,-6 6,0 12,0 12,0 95,0 95,0 101,0 107,-6 107,-12 107,-12 107,-56 107,-56 107,-62 101,-68 95,-68\"/>\n<text text-anchor=\"start\" x=\"15.5\" y=\"-52.8\" font-family=\"Helvetica,sans-Serif\" font-size=\"14.00\" fill=\"#000000\">gini = 0.195</text>\n<text text-anchor=\"start\" x=\"9.5\" y=\"-37.8\" font-family=\"Helvetica,sans-Serif\" font-size=\"14.00\" fill=\"#000000\">samples = 64</text>\n<text text-anchor=\"start\" x=\"8\" y=\"-22.8\" font-family=\"Helvetica,sans-Serif\" font-size=\"14.00\" fill=\"#000000\">value = [57, 7]</text>\n<text text-anchor=\"start\" x=\"24.5\" y=\"-7.8\" font-family=\"Helvetica,sans-Serif\" font-size=\"14.00\" fill=\"#000000\">class = 0</text>\n</g>\n<!-- 4&#45;&gt;5 -->\n<g id=\"edge5\" class=\"edge\">\n<title>4&#45;&gt;5</title>\n<path fill=\"none\" stroke=\"#000000\" d=\"M91.1582,-103.9815C86.4598,-95.2504 81.4929,-86.0202 76.7617,-77.2281\"/>\n<polygon fill=\"#000000\" stroke=\"#000000\" points=\"79.7586,-75.4111 71.9379,-68.2637 73.5944,-78.7282 79.7586,-75.4111\"/>\n</g>\n<!-- 6 -->\n<g id=\"node7\" class=\"node\">\n<title>6</title>\n<path fill=\"#399de5\" stroke=\"#000000\" d=\"M212,-68C212,-68 137,-68 137,-68 131,-68 125,-62 125,-56 125,-56 125,-12 125,-12 125,-6 131,0 137,0 137,0 212,0 212,0 218,0 224,-6 224,-12 224,-12 224,-56 224,-56 224,-62 218,-68 212,-68\"/>\n<text text-anchor=\"start\" x=\"145\" y=\"-52.8\" font-family=\"Helvetica,sans-Serif\" font-size=\"14.00\" fill=\"#000000\">gini = 0.0</text>\n<text text-anchor=\"start\" x=\"135\" y=\"-37.8\" font-family=\"Helvetica,sans-Serif\" font-size=\"14.00\" fill=\"#000000\">samples = 1</text>\n<text text-anchor=\"start\" x=\"133\" y=\"-22.8\" font-family=\"Helvetica,sans-Serif\" font-size=\"14.00\" fill=\"#000000\">value = [0, 1]</text>\n<text text-anchor=\"start\" x=\"145.5\" y=\"-7.8\" font-family=\"Helvetica,sans-Serif\" font-size=\"14.00\" fill=\"#000000\">class = 1</text>\n</g>\n<!-- 4&#45;&gt;6 -->\n<g id=\"edge6\" class=\"edge\">\n<title>4&#45;&gt;6</title>\n<path fill=\"none\" stroke=\"#000000\" d=\"M136.2141,-103.9815C140.9908,-95.2504 146.0405,-86.0202 150.8506,-77.2281\"/>\n<polygon fill=\"#000000\" stroke=\"#000000\" points=\"154.0258,-78.7165 155.7549,-68.2637 147.8847,-75.3568 154.0258,-78.7165\"/>\n</g>\n<!-- 9 -->\n<g id=\"node10\" class=\"node\">\n<title>9</title>\n<path fill=\"#399de5\" stroke=\"#000000\" d=\"M389,-179.5C389,-179.5 314,-179.5 314,-179.5 308,-179.5 302,-173.5 302,-167.5 302,-167.5 302,-123.5 302,-123.5 302,-117.5 308,-111.5 314,-111.5 314,-111.5 389,-111.5 389,-111.5 395,-111.5 401,-117.5 401,-123.5 401,-123.5 401,-167.5 401,-167.5 401,-173.5 395,-179.5 389,-179.5\"/>\n<text text-anchor=\"start\" x=\"322\" y=\"-164.3\" font-family=\"Helvetica,sans-Serif\" font-size=\"14.00\" fill=\"#000000\">gini = 0.0</text>\n<text text-anchor=\"start\" x=\"312\" y=\"-149.3\" font-family=\"Helvetica,sans-Serif\" font-size=\"14.00\" fill=\"#000000\">samples = 1</text>\n<text text-anchor=\"start\" x=\"310\" y=\"-134.3\" font-family=\"Helvetica,sans-Serif\" font-size=\"14.00\" fill=\"#000000\">value = [0, 1]</text>\n<text text-anchor=\"start\" x=\"322.5\" y=\"-119.3\" font-family=\"Helvetica,sans-Serif\" font-size=\"14.00\" fill=\"#000000\">class = 1</text>\n</g>\n<!-- 8&#45;&gt;9 -->\n<g id=\"edge9\" class=\"edge\">\n<title>8&#45;&gt;9</title>\n<path fill=\"none\" stroke=\"#000000\" d=\"M415.8746,-222.8796C406.3607,-211.4436 396.0386,-199.0363 386.5035,-187.575\"/>\n<polygon fill=\"#000000\" stroke=\"#000000\" points=\"389.1339,-185.264 380.0477,-179.8149 383.7526,-189.7409 389.1339,-185.264\"/>\n</g>\n<!-- 10 -->\n<g id=\"node11\" class=\"node\">\n<title>10</title>\n<path fill=\"#e5823b\" stroke=\"#000000\" d=\"M565.5,-187C565.5,-187 431.5,-187 431.5,-187 425.5,-187 419.5,-181 419.5,-175 419.5,-175 419.5,-116 419.5,-116 419.5,-110 425.5,-104 431.5,-104 431.5,-104 565.5,-104 565.5,-104 571.5,-104 577.5,-110 577.5,-116 577.5,-116 577.5,-175 577.5,-175 577.5,-181 571.5,-187 565.5,-187\"/>\n<text text-anchor=\"start\" x=\"427.5\" y=\"-171.8\" font-family=\"Helvetica,sans-Serif\" font-size=\"14.00\" fill=\"#000000\">housenumber ≤ 230.5</text>\n<text text-anchor=\"start\" x=\"460.5\" y=\"-156.8\" font-family=\"Helvetica,sans-Serif\" font-size=\"14.00\" fill=\"#000000\">gini = 0.021</text>\n<text text-anchor=\"start\" x=\"454.5\" y=\"-141.8\" font-family=\"Helvetica,sans-Serif\" font-size=\"14.00\" fill=\"#000000\">samples = 96</text>\n<text text-anchor=\"start\" x=\"453\" y=\"-126.8\" font-family=\"Helvetica,sans-Serif\" font-size=\"14.00\" fill=\"#000000\">value = [95, 1]</text>\n<text text-anchor=\"start\" x=\"469.5\" y=\"-111.8\" font-family=\"Helvetica,sans-Serif\" font-size=\"14.00\" fill=\"#000000\">class = 0</text>\n</g>\n<!-- 8&#45;&gt;10 -->\n<g id=\"edge10\" class=\"edge\">\n<title>8&#45;&gt;10</title>\n<path fill=\"none\" stroke=\"#000000\" d=\"M467.2881,-222.8796C470.7029,-214.4136 474.3325,-205.4153 477.863,-196.6626\"/>\n<polygon fill=\"#000000\" stroke=\"#000000\" points=\"481.1453,-197.8813 481.6403,-187.2981 474.6536,-195.2628 481.1453,-197.8813\"/>\n</g>\n<!-- 11 -->\n<g id=\"node12\" class=\"node\">\n<title>11</title>\n<path fill=\"#e58139\" stroke=\"#000000\" d=\"M415,-68C415,-68 332,-68 332,-68 326,-68 320,-62 320,-56 320,-56 320,-12 320,-12 320,-6 326,0 332,0 332,0 415,0 415,0 421,0 427,-6 427,-12 427,-12 427,-56 427,-56 427,-62 421,-68 415,-68\"/>\n<text text-anchor=\"start\" x=\"344\" y=\"-52.8\" font-family=\"Helvetica,sans-Serif\" font-size=\"14.00\" fill=\"#000000\">gini = 0.0</text>\n<text text-anchor=\"start\" x=\"329.5\" y=\"-37.8\" font-family=\"Helvetica,sans-Serif\" font-size=\"14.00\" fill=\"#000000\">samples = 85</text>\n<text text-anchor=\"start\" x=\"328\" y=\"-22.8\" font-family=\"Helvetica,sans-Serif\" font-size=\"14.00\" fill=\"#000000\">value = [85, 0]</text>\n<text text-anchor=\"start\" x=\"344.5\" y=\"-7.8\" font-family=\"Helvetica,sans-Serif\" font-size=\"14.00\" fill=\"#000000\">class = 0</text>\n</g>\n<!-- 10&#45;&gt;11 -->\n<g id=\"edge11\" class=\"edge\">\n<title>10&#45;&gt;11</title>\n<path fill=\"none\" stroke=\"#000000\" d=\"M451.9546,-103.9815C441.3421,-94.5151 430.0718,-84.462 419.4829,-75.0168\"/>\n<polygon fill=\"#000000\" stroke=\"#000000\" points=\"421.7046,-72.3084 411.9122,-68.2637 417.0449,-77.5322 421.7046,-72.3084\"/>\n</g>\n<!-- 12 -->\n<g id=\"node13\" class=\"node\">\n<title>12</title>\n<path fill=\"#e88e4d\" stroke=\"#000000\" d=\"M540,-68C540,-68 457,-68 457,-68 451,-68 445,-62 445,-56 445,-56 445,-12 445,-12 445,-6 451,0 457,0 457,0 540,0 540,0 546,0 552,-6 552,-12 552,-12 552,-56 552,-56 552,-62 546,-68 540,-68\"/>\n<text text-anchor=\"start\" x=\"460.5\" y=\"-52.8\" font-family=\"Helvetica,sans-Serif\" font-size=\"14.00\" fill=\"#000000\">gini = 0.165</text>\n<text text-anchor=\"start\" x=\"454.5\" y=\"-37.8\" font-family=\"Helvetica,sans-Serif\" font-size=\"14.00\" fill=\"#000000\">samples = 11</text>\n<text text-anchor=\"start\" x=\"453\" y=\"-22.8\" font-family=\"Helvetica,sans-Serif\" font-size=\"14.00\" fill=\"#000000\">value = [10, 1]</text>\n<text text-anchor=\"start\" x=\"469.5\" y=\"-7.8\" font-family=\"Helvetica,sans-Serif\" font-size=\"14.00\" fill=\"#000000\">class = 0</text>\n</g>\n<!-- 10&#45;&gt;12 -->\n<g id=\"edge12\" class=\"edge\">\n<title>10&#45;&gt;12</title>\n<path fill=\"none\" stroke=\"#000000\" d=\"M498.5,-103.9815C498.5,-95.618 498.5,-86.7965 498.5,-78.3409\"/>\n<polygon fill=\"#000000\" stroke=\"#000000\" points=\"502.0001,-78.2636 498.5,-68.2637 495.0001,-78.2637 502.0001,-78.2636\"/>\n</g>\n<!-- 14 -->\n<g id=\"node15\" class=\"node\">\n<title>14</title>\n<path fill=\"#fef9f6\" stroke=\"#000000\" d=\"M1040.5,-306C1040.5,-306 906.5,-306 906.5,-306 900.5,-306 894.5,-300 894.5,-294 894.5,-294 894.5,-235 894.5,-235 894.5,-229 900.5,-223 906.5,-223 906.5,-223 1040.5,-223 1040.5,-223 1046.5,-223 1052.5,-229 1052.5,-235 1052.5,-235 1052.5,-294 1052.5,-294 1052.5,-300 1046.5,-306 1040.5,-306\"/>\n<text text-anchor=\"start\" x=\"902.5\" y=\"-290.8\" font-family=\"Helvetica,sans-Serif\" font-size=\"14.00\" fill=\"#000000\">housenumber ≤ 231.0</text>\n<text text-anchor=\"start\" x=\"944\" y=\"-275.8\" font-family=\"Helvetica,sans-Serif\" font-size=\"14.00\" fill=\"#000000\">gini = 0.5</text>\n<text text-anchor=\"start\" x=\"925.5\" y=\"-260.8\" font-family=\"Helvetica,sans-Serif\" font-size=\"14.00\" fill=\"#000000\">samples = 129</text>\n<text text-anchor=\"start\" x=\"923.5\" y=\"-245.8\" font-family=\"Helvetica,sans-Serif\" font-size=\"14.00\" fill=\"#000000\">value = [66, 63]</text>\n<text text-anchor=\"start\" x=\"944.5\" y=\"-230.8\" font-family=\"Helvetica,sans-Serif\" font-size=\"14.00\" fill=\"#000000\">class = 0</text>\n</g>\n<!-- 13&#45;&gt;14 -->\n<g id=\"edge14\" class=\"edge\">\n<title>13&#45;&gt;14</title>\n<path fill=\"none\" stroke=\"#000000\" d=\"M1043.7268,-341.8796C1035.4713,-332.7832 1026.658,-323.0722 1018.1626,-313.7116\"/>\n<polygon fill=\"#000000\" stroke=\"#000000\" points=\"1020.7467,-311.3509 1011.4344,-306.2981 1015.5632,-316.0553 1020.7467,-311.3509\"/>\n</g>\n<!-- 21 -->\n<g id=\"node22\" class=\"node\">\n<title>21</title>\n<path fill=\"#4ca6e7\" stroke=\"#000000\" d=\"M1230,-306C1230,-306 1147,-306 1147,-306 1141,-306 1135,-300 1135,-294 1135,-294 1135,-235 1135,-235 1135,-229 1141,-223 1147,-223 1147,-223 1230,-223 1230,-223 1236,-223 1242,-229 1242,-235 1242,-235 1242,-294 1242,-294 1242,-300 1236,-306 1230,-306\"/>\n<text text-anchor=\"start\" x=\"1158\" y=\"-290.8\" font-family=\"Helvetica,sans-Serif\" font-size=\"14.00\" fill=\"#000000\">age ≤ 5.5</text>\n<text text-anchor=\"start\" x=\"1150.5\" y=\"-275.8\" font-family=\"Helvetica,sans-Serif\" font-size=\"14.00\" fill=\"#000000\">gini = 0.159</text>\n<text text-anchor=\"start\" x=\"1144.5\" y=\"-260.8\" font-family=\"Helvetica,sans-Serif\" font-size=\"14.00\" fill=\"#000000\">samples = 23</text>\n<text text-anchor=\"start\" x=\"1143\" y=\"-245.8\" font-family=\"Helvetica,sans-Serif\" font-size=\"14.00\" fill=\"#000000\">value = [2, 21]</text>\n<text text-anchor=\"start\" x=\"1159.5\" y=\"-230.8\" font-family=\"Helvetica,sans-Serif\" font-size=\"14.00\" fill=\"#000000\">class = 1</text>\n</g>\n<!-- 13&#45;&gt;21 -->\n<g id=\"edge21\" class=\"edge\">\n<title>13&#45;&gt;21</title>\n<path fill=\"none\" stroke=\"#000000\" d=\"M1118.9234,-341.8796C1127.0215,-332.8733 1135.6614,-323.2644 1144.0009,-313.9897\"/>\n<polygon fill=\"#000000\" stroke=\"#000000\" points=\"1146.8333,-316.0743 1150.9169,-306.2981 1141.628,-311.394 1146.8333,-316.0743\"/>\n</g>\n<!-- 15 -->\n<g id=\"node16\" class=\"node\">\n<title>15</title>\n<path fill=\"#ecf6fc\" stroke=\"#000000\" d=\"M843,-187C843,-187 608,-187 608,-187 602,-187 596,-181 596,-175 596,-175 596,-116 596,-116 596,-110 602,-104 608,-104 608,-104 843,-104 843,-104 849,-104 855,-110 855,-116 855,-116 855,-175 855,-175 855,-181 849,-187 843,-187\"/>\n<text text-anchor=\"start\" x=\"604\" y=\"-171.8\" font-family=\"Helvetica,sans-Serif\" font-size=\"14.00\" fill=\"#000000\">browser_used_Internet Explorer ≤ 0.5</text>\n<text text-anchor=\"start\" x=\"687.5\" y=\"-156.8\" font-family=\"Helvetica,sans-Serif\" font-size=\"14.00\" fill=\"#000000\">gini = 0.499</text>\n<text text-anchor=\"start\" x=\"677.5\" y=\"-141.8\" font-family=\"Helvetica,sans-Serif\" font-size=\"14.00\" fill=\"#000000\">samples = 118</text>\n<text text-anchor=\"start\" x=\"675.5\" y=\"-126.8\" font-family=\"Helvetica,sans-Serif\" font-size=\"14.00\" fill=\"#000000\">value = [56, 62]</text>\n<text text-anchor=\"start\" x=\"696.5\" y=\"-111.8\" font-family=\"Helvetica,sans-Serif\" font-size=\"14.00\" fill=\"#000000\">class = 1</text>\n</g>\n<!-- 14&#45;&gt;15 -->\n<g id=\"edge15\" class=\"edge\">\n<title>14&#45;&gt;15</title>\n<path fill=\"none\" stroke=\"#000000\" d=\"M894.3494,-226.5205C871.0954,-215.3623 845.4093,-203.0371 821.2368,-191.4382\"/>\n<polygon fill=\"#000000\" stroke=\"#000000\" points=\"822.5847,-188.203 812.0547,-187.0323 819.5564,-194.514 822.5847,-188.203\"/>\n</g>\n<!-- 18 -->\n<g id=\"node19\" class=\"node\">\n<title>18</title>\n<path fill=\"#e88e4d\" stroke=\"#000000\" d=\"M1062,-187C1062,-187 885,-187 885,-187 879,-187 873,-181 873,-175 873,-175 873,-116 873,-116 873,-110 879,-104 885,-104 885,-104 1062,-104 1062,-104 1068,-104 1074,-110 1074,-116 1074,-116 1074,-175 1074,-175 1074,-181 1068,-187 1062,-187\"/>\n<text text-anchor=\"start\" x=\"881\" y=\"-171.8\" font-family=\"Helvetica,sans-Serif\" font-size=\"14.00\" fill=\"#000000\">annual_income ≤ 36197.271</text>\n<text text-anchor=\"start\" x=\"935.5\" y=\"-156.8\" font-family=\"Helvetica,sans-Serif\" font-size=\"14.00\" fill=\"#000000\">gini = 0.165</text>\n<text text-anchor=\"start\" x=\"929.5\" y=\"-141.8\" font-family=\"Helvetica,sans-Serif\" font-size=\"14.00\" fill=\"#000000\">samples = 11</text>\n<text text-anchor=\"start\" x=\"928\" y=\"-126.8\" font-family=\"Helvetica,sans-Serif\" font-size=\"14.00\" fill=\"#000000\">value = [10, 1]</text>\n<text text-anchor=\"start\" x=\"944.5\" y=\"-111.8\" font-family=\"Helvetica,sans-Serif\" font-size=\"14.00\" fill=\"#000000\">class = 0</text>\n</g>\n<!-- 14&#45;&gt;18 -->\n<g id=\"edge18\" class=\"edge\">\n<title>14&#45;&gt;18</title>\n<path fill=\"none\" stroke=\"#000000\" d=\"M973.5,-222.8796C973.5,-214.6838 973.5,-205.9891 973.5,-197.5013\"/>\n<polygon fill=\"#000000\" stroke=\"#000000\" points=\"977.0001,-197.298 973.5,-187.2981 970.0001,-197.2981 977.0001,-197.298\"/>\n</g>\n<!-- 16 -->\n<g id=\"node17\" class=\"node\">\n<title>16</title>\n<path fill=\"#d1e8f9\" stroke=\"#000000\" d=\"M676.5,-68C676.5,-68 584.5,-68 584.5,-68 578.5,-68 572.5,-62 572.5,-56 572.5,-56 572.5,-12 572.5,-12 572.5,-6 578.5,0 584.5,0 584.5,0 676.5,0 676.5,0 682.5,0 688.5,-6 688.5,-12 688.5,-12 688.5,-56 688.5,-56 688.5,-62 682.5,-68 676.5,-68\"/>\n<text text-anchor=\"start\" x=\"592.5\" y=\"-52.8\" font-family=\"Helvetica,sans-Serif\" font-size=\"14.00\" fill=\"#000000\">gini = 0.491</text>\n<text text-anchor=\"start\" x=\"586.5\" y=\"-37.8\" font-family=\"Helvetica,sans-Serif\" font-size=\"14.00\" fill=\"#000000\">samples = 99</text>\n<text text-anchor=\"start\" x=\"580.5\" y=\"-22.8\" font-family=\"Helvetica,sans-Serif\" font-size=\"14.00\" fill=\"#000000\">value = [43, 56]</text>\n<text text-anchor=\"start\" x=\"601.5\" y=\"-7.8\" font-family=\"Helvetica,sans-Serif\" font-size=\"14.00\" fill=\"#000000\">class = 1</text>\n</g>\n<!-- 15&#45;&gt;16 -->\n<g id=\"edge16\" class=\"edge\">\n<title>15&#45;&gt;16</title>\n<path fill=\"none\" stroke=\"#000000\" d=\"M690.1255,-103.9815C682.3732,-94.8828 674.1591,-85.242 666.3869,-76.1199\"/>\n<polygon fill=\"#000000\" stroke=\"#000000\" points=\"668.8428,-73.6056 659.6933,-68.2637 663.5146,-78.1454 668.8428,-73.6056\"/>\n</g>\n<!-- 17 -->\n<g id=\"node18\" class=\"node\">\n<title>17</title>\n<path fill=\"#f1bb94\" stroke=\"#000000\" d=\"M802,-68C802,-68 719,-68 719,-68 713,-68 707,-62 707,-56 707,-56 707,-12 707,-12 707,-6 713,0 719,0 719,0 802,0 802,0 808,0 814,-6 814,-12 814,-12 814,-56 814,-56 814,-62 808,-68 802,-68\"/>\n<text text-anchor=\"start\" x=\"722.5\" y=\"-52.8\" font-family=\"Helvetica,sans-Serif\" font-size=\"14.00\" fill=\"#000000\">gini = 0.432</text>\n<text text-anchor=\"start\" x=\"716.5\" y=\"-37.8\" font-family=\"Helvetica,sans-Serif\" font-size=\"14.00\" fill=\"#000000\">samples = 19</text>\n<text text-anchor=\"start\" x=\"715\" y=\"-22.8\" font-family=\"Helvetica,sans-Serif\" font-size=\"14.00\" fill=\"#000000\">value = [13, 6]</text>\n<text text-anchor=\"start\" x=\"731.5\" y=\"-7.8\" font-family=\"Helvetica,sans-Serif\" font-size=\"14.00\" fill=\"#000000\">class = 0</text>\n</g>\n<!-- 15&#45;&gt;17 -->\n<g id=\"edge17\" class=\"edge\">\n<title>15&#45;&gt;17</title>\n<path fill=\"none\" stroke=\"#000000\" d=\"M738.5327,-103.9815C741.1869,-95.5261 743.988,-86.6026 746.6688,-78.0623\"/>\n<polygon fill=\"#000000\" stroke=\"#000000\" points=\"750.0889,-78.8529 749.7446,-68.2637 743.4102,-76.7564 750.0889,-78.8529\"/>\n</g>\n<!-- 19 -->\n<g id=\"node20\" class=\"node\">\n<title>19</title>\n<path fill=\"#ffffff\" stroke=\"#000000\" d=\"M920,-68C920,-68 845,-68 845,-68 839,-68 833,-62 833,-56 833,-56 833,-12 833,-12 833,-6 839,0 845,0 845,0 920,0 920,0 926,0 932,-6 932,-12 932,-12 932,-56 932,-56 932,-62 926,-68 920,-68\"/>\n<text text-anchor=\"start\" x=\"853\" y=\"-52.8\" font-family=\"Helvetica,sans-Serif\" font-size=\"14.00\" fill=\"#000000\">gini = 0.5</text>\n<text text-anchor=\"start\" x=\"843\" y=\"-37.8\" font-family=\"Helvetica,sans-Serif\" font-size=\"14.00\" fill=\"#000000\">samples = 2</text>\n<text text-anchor=\"start\" x=\"841\" y=\"-22.8\" font-family=\"Helvetica,sans-Serif\" font-size=\"14.00\" fill=\"#000000\">value = [1, 1]</text>\n<text text-anchor=\"start\" x=\"853.5\" y=\"-7.8\" font-family=\"Helvetica,sans-Serif\" font-size=\"14.00\" fill=\"#000000\">class = 0</text>\n</g>\n<!-- 18&#45;&gt;19 -->\n<g id=\"edge19\" class=\"edge\">\n<title>18&#45;&gt;19</title>\n<path fill=\"none\" stroke=\"#000000\" d=\"M939.615,-103.9815C932.1891,-94.8828 924.3208,-85.242 916.8759,-76.1199\"/>\n<polygon fill=\"#000000\" stroke=\"#000000\" points=\"919.4986,-73.798 910.4641,-68.2637 914.0755,-78.224 919.4986,-73.798\"/>\n</g>\n<!-- 20 -->\n<g id=\"node21\" class=\"node\">\n<title>20</title>\n<path fill=\"#e58139\" stroke=\"#000000\" d=\"M1037,-68C1037,-68 962,-68 962,-68 956,-68 950,-62 950,-56 950,-56 950,-12 950,-12 950,-6 956,0 962,0 962,0 1037,0 1037,0 1043,0 1049,-6 1049,-12 1049,-12 1049,-56 1049,-56 1049,-62 1043,-68 1037,-68\"/>\n<text text-anchor=\"start\" x=\"970\" y=\"-52.8\" font-family=\"Helvetica,sans-Serif\" font-size=\"14.00\" fill=\"#000000\">gini = 0.0</text>\n<text text-anchor=\"start\" x=\"960\" y=\"-37.8\" font-family=\"Helvetica,sans-Serif\" font-size=\"14.00\" fill=\"#000000\">samples = 9</text>\n<text text-anchor=\"start\" x=\"958\" y=\"-22.8\" font-family=\"Helvetica,sans-Serif\" font-size=\"14.00\" fill=\"#000000\">value = [9, 0]</text>\n<text text-anchor=\"start\" x=\"970.5\" y=\"-7.8\" font-family=\"Helvetica,sans-Serif\" font-size=\"14.00\" fill=\"#000000\">class = 0</text>\n</g>\n<!-- 18&#45;&gt;20 -->\n<g id=\"edge20\" class=\"edge\">\n<title>18&#45;&gt;20</title>\n<path fill=\"none\" stroke=\"#000000\" d=\"M983.1814,-103.9815C985.1531,-95.5261 987.2339,-86.6026 989.2254,-78.0623\"/>\n<polygon fill=\"#000000\" stroke=\"#000000\" points=\"992.6478,-78.7973 991.5103,-68.2637 985.8307,-77.2076 992.6478,-78.7973\"/>\n</g>\n<!-- 22 -->\n<g id=\"node23\" class=\"node\">\n<title>22</title>\n<path fill=\"#ffffff\" stroke=\"#000000\" d=\"M1273,-187C1273,-187 1104,-187 1104,-187 1098,-187 1092,-181 1092,-175 1092,-175 1092,-116 1092,-116 1092,-110 1098,-104 1104,-104 1104,-104 1273,-104 1273,-104 1279,-104 1285,-110 1285,-116 1285,-116 1285,-175 1285,-175 1285,-181 1279,-187 1273,-187\"/>\n<text text-anchor=\"start\" x=\"1100\" y=\"-171.8\" font-family=\"Helvetica,sans-Serif\" font-size=\"14.00\" fill=\"#000000\">annual_income ≤ 296437.5</text>\n<text text-anchor=\"start\" x=\"1159\" y=\"-156.8\" font-family=\"Helvetica,sans-Serif\" font-size=\"14.00\" fill=\"#000000\">gini = 0.5</text>\n<text text-anchor=\"start\" x=\"1149\" y=\"-141.8\" font-family=\"Helvetica,sans-Serif\" font-size=\"14.00\" fill=\"#000000\">samples = 2</text>\n<text text-anchor=\"start\" x=\"1147\" y=\"-126.8\" font-family=\"Helvetica,sans-Serif\" font-size=\"14.00\" fill=\"#000000\">value = [1, 1]</text>\n<text text-anchor=\"start\" x=\"1159.5\" y=\"-111.8\" font-family=\"Helvetica,sans-Serif\" font-size=\"14.00\" fill=\"#000000\">class = 0</text>\n</g>\n<!-- 21&#45;&gt;22 -->\n<g id=\"edge22\" class=\"edge\">\n<title>21&#45;&gt;22</title>\n<path fill=\"none\" stroke=\"#000000\" d=\"M1188.5,-222.8796C1188.5,-214.6838 1188.5,-205.9891 1188.5,-197.5013\"/>\n<polygon fill=\"#000000\" stroke=\"#000000\" points=\"1192.0001,-197.298 1188.5,-187.2981 1185.0001,-197.2981 1192.0001,-197.298\"/>\n</g>\n<!-- 25 -->\n<g id=\"node26\" class=\"node\">\n<title>25</title>\n<path fill=\"#43a2e6\" stroke=\"#000000\" d=\"M1398,-187C1398,-187 1315,-187 1315,-187 1309,-187 1303,-181 1303,-175 1303,-175 1303,-116 1303,-116 1303,-110 1309,-104 1315,-104 1315,-104 1398,-104 1398,-104 1404,-104 1410,-110 1410,-116 1410,-116 1410,-175 1410,-175 1410,-181 1404,-187 1398,-187\"/>\n<text text-anchor=\"start\" x=\"1314\" y=\"-171.8\" font-family=\"Helvetica,sans-Serif\" font-size=\"14.00\" fill=\"#000000\">age ≤ 33.941</text>\n<text text-anchor=\"start\" x=\"1318.5\" y=\"-156.8\" font-family=\"Helvetica,sans-Serif\" font-size=\"14.00\" fill=\"#000000\">gini = 0.091</text>\n<text text-anchor=\"start\" x=\"1312.5\" y=\"-141.8\" font-family=\"Helvetica,sans-Serif\" font-size=\"14.00\" fill=\"#000000\">samples = 21</text>\n<text text-anchor=\"start\" x=\"1311\" y=\"-126.8\" font-family=\"Helvetica,sans-Serif\" font-size=\"14.00\" fill=\"#000000\">value = [1, 20]</text>\n<text text-anchor=\"start\" x=\"1327.5\" y=\"-111.8\" font-family=\"Helvetica,sans-Serif\" font-size=\"14.00\" fill=\"#000000\">class = 1</text>\n</g>\n<!-- 21&#45;&gt;25 -->\n<g id=\"edge25\" class=\"edge\">\n<title>21&#45;&gt;25</title>\n<path fill=\"none\" stroke=\"#000000\" d=\"M1242.1182,-226.5205C1258.788,-214.7127 1277.3028,-201.598 1294.4952,-189.4201\"/>\n<polygon fill=\"#000000\" stroke=\"#000000\" points=\"1296.6778,-192.1632 1302.815,-183.5269 1292.6317,-186.451 1296.6778,-192.1632\"/>\n</g>\n<!-- 23 -->\n<g id=\"node24\" class=\"node\">\n<title>23</title>\n<path fill=\"#399de5\" stroke=\"#000000\" d=\"M1155,-68C1155,-68 1080,-68 1080,-68 1074,-68 1068,-62 1068,-56 1068,-56 1068,-12 1068,-12 1068,-6 1074,0 1080,0 1080,0 1155,0 1155,0 1161,0 1167,-6 1167,-12 1167,-12 1167,-56 1167,-56 1167,-62 1161,-68 1155,-68\"/>\n<text text-anchor=\"start\" x=\"1088\" y=\"-52.8\" font-family=\"Helvetica,sans-Serif\" font-size=\"14.00\" fill=\"#000000\">gini = 0.0</text>\n<text text-anchor=\"start\" x=\"1078\" y=\"-37.8\" font-family=\"Helvetica,sans-Serif\" font-size=\"14.00\" fill=\"#000000\">samples = 1</text>\n<text text-anchor=\"start\" x=\"1076\" y=\"-22.8\" font-family=\"Helvetica,sans-Serif\" font-size=\"14.00\" fill=\"#000000\">value = [0, 1]</text>\n<text text-anchor=\"start\" x=\"1088.5\" y=\"-7.8\" font-family=\"Helvetica,sans-Serif\" font-size=\"14.00\" fill=\"#000000\">class = 1</text>\n</g>\n<!-- 22&#45;&gt;23 -->\n<g id=\"edge23\" class=\"edge\">\n<title>22&#45;&gt;23</title>\n<path fill=\"none\" stroke=\"#000000\" d=\"M1162.0622,-103.9815C1156.444,-95.1585 1150.5012,-85.8258 1144.8497,-76.9506\"/>\n<polygon fill=\"#000000\" stroke=\"#000000\" points=\"1147.6416,-74.8188 1139.3181,-68.2637 1141.7371,-78.5787 1147.6416,-74.8188\"/>\n</g>\n<!-- 24 -->\n<g id=\"node25\" class=\"node\">\n<title>24</title>\n<path fill=\"#e58139\" stroke=\"#000000\" d=\"M1272,-68C1272,-68 1197,-68 1197,-68 1191,-68 1185,-62 1185,-56 1185,-56 1185,-12 1185,-12 1185,-6 1191,0 1197,0 1197,0 1272,0 1272,0 1278,0 1284,-6 1284,-12 1284,-12 1284,-56 1284,-56 1284,-62 1278,-68 1272,-68\"/>\n<text text-anchor=\"start\" x=\"1205\" y=\"-52.8\" font-family=\"Helvetica,sans-Serif\" font-size=\"14.00\" fill=\"#000000\">gini = 0.0</text>\n<text text-anchor=\"start\" x=\"1195\" y=\"-37.8\" font-family=\"Helvetica,sans-Serif\" font-size=\"14.00\" fill=\"#000000\">samples = 1</text>\n<text text-anchor=\"start\" x=\"1193\" y=\"-22.8\" font-family=\"Helvetica,sans-Serif\" font-size=\"14.00\" fill=\"#000000\">value = [1, 0]</text>\n<text text-anchor=\"start\" x=\"1205.5\" y=\"-7.8\" font-family=\"Helvetica,sans-Serif\" font-size=\"14.00\" fill=\"#000000\">class = 0</text>\n</g>\n<!-- 22&#45;&gt;24 -->\n<g id=\"edge24\" class=\"edge\">\n<title>22&#45;&gt;24</title>\n<path fill=\"none\" stroke=\"#000000\" d=\"M1205.6287,-103.9815C1209.155,-95.4342 1212.8785,-86.4086 1216.4367,-77.7839\"/>\n<polygon fill=\"#000000\" stroke=\"#000000\" points=\"1219.786,-78.8427 1220.3643,-68.2637 1213.315,-76.1731 1219.786,-78.8427\"/>\n</g>\n<!-- 26 -->\n<g id=\"node27\" class=\"node\">\n<title>26</title>\n<path fill=\"#399de5\" stroke=\"#000000\" d=\"M1398,-68C1398,-68 1315,-68 1315,-68 1309,-68 1303,-62 1303,-56 1303,-56 1303,-12 1303,-12 1303,-6 1309,0 1315,0 1315,0 1398,0 1398,0 1404,0 1410,-6 1410,-12 1410,-12 1410,-56 1410,-56 1410,-62 1404,-68 1398,-68\"/>\n<text text-anchor=\"start\" x=\"1327\" y=\"-52.8\" font-family=\"Helvetica,sans-Serif\" font-size=\"14.00\" fill=\"#000000\">gini = 0.0</text>\n<text text-anchor=\"start\" x=\"1312.5\" y=\"-37.8\" font-family=\"Helvetica,sans-Serif\" font-size=\"14.00\" fill=\"#000000\">samples = 16</text>\n<text text-anchor=\"start\" x=\"1311\" y=\"-22.8\" font-family=\"Helvetica,sans-Serif\" font-size=\"14.00\" fill=\"#000000\">value = [0, 16]</text>\n<text text-anchor=\"start\" x=\"1327.5\" y=\"-7.8\" font-family=\"Helvetica,sans-Serif\" font-size=\"14.00\" fill=\"#000000\">class = 1</text>\n</g>\n<!-- 25&#45;&gt;26 -->\n<g id=\"edge26\" class=\"edge\">\n<title>25&#45;&gt;26</title>\n<path fill=\"none\" stroke=\"#000000\" d=\"M1356.5,-103.9815C1356.5,-95.618 1356.5,-86.7965 1356.5,-78.3409\"/>\n<polygon fill=\"#000000\" stroke=\"#000000\" points=\"1360.0001,-78.2636 1356.5,-68.2637 1353.0001,-78.2637 1360.0001,-78.2636\"/>\n</g>\n<!-- 27 -->\n<g id=\"node28\" class=\"node\">\n<title>27</title>\n<path fill=\"#6ab6ec\" stroke=\"#000000\" d=\"M1515,-68C1515,-68 1440,-68 1440,-68 1434,-68 1428,-62 1428,-56 1428,-56 1428,-12 1428,-12 1428,-6 1434,0 1440,0 1440,0 1515,0 1515,0 1521,0 1527,-6 1527,-12 1527,-12 1527,-56 1527,-56 1527,-62 1521,-68 1515,-68\"/>\n<text text-anchor=\"start\" x=\"1444\" y=\"-52.8\" font-family=\"Helvetica,sans-Serif\" font-size=\"14.00\" fill=\"#000000\">gini = 0.32</text>\n<text text-anchor=\"start\" x=\"1438\" y=\"-37.8\" font-family=\"Helvetica,sans-Serif\" font-size=\"14.00\" fill=\"#000000\">samples = 5</text>\n<text text-anchor=\"start\" x=\"1436\" y=\"-22.8\" font-family=\"Helvetica,sans-Serif\" font-size=\"14.00\" fill=\"#000000\">value = [1, 4]</text>\n<text text-anchor=\"start\" x=\"1448.5\" y=\"-7.8\" font-family=\"Helvetica,sans-Serif\" font-size=\"14.00\" fill=\"#000000\">class = 1</text>\n</g>\n<!-- 25&#45;&gt;27 -->\n<g id=\"edge27\" class=\"edge\">\n<title>25&#45;&gt;27</title>\n<path fill=\"none\" stroke=\"#000000\" d=\"M1401.5559,-103.9815C1411.7291,-94.607 1422.5267,-84.6572 1432.6898,-75.2921\"/>\n<polygon fill=\"#000000\" stroke=\"#000000\" points=\"1435.3349,-77.6141 1440.317,-68.2637 1430.5913,-72.4663 1435.3349,-77.6141\"/>\n</g>\n<!-- 29 -->\n<g id=\"node30\" class=\"node\">\n<title>29</title>\n<path fill=\"#f7d8c1\" stroke=\"#000000\" d=\"M1705.5,-425C1705.5,-425 1613.5,-425 1613.5,-425 1607.5,-425 1601.5,-419 1601.5,-413 1601.5,-413 1601.5,-354 1601.5,-354 1601.5,-348 1607.5,-342 1613.5,-342 1613.5,-342 1705.5,-342 1705.5,-342 1711.5,-342 1717.5,-348 1717.5,-354 1717.5,-354 1717.5,-413 1717.5,-413 1717.5,-419 1711.5,-425 1705.5,-425\"/>\n<text text-anchor=\"start\" x=\"1617\" y=\"-409.8\" font-family=\"Helvetica,sans-Serif\" font-size=\"14.00\" fill=\"#000000\">siblings ≤ 2.0</text>\n<text text-anchor=\"start\" x=\"1621.5\" y=\"-394.8\" font-family=\"Helvetica,sans-Serif\" font-size=\"14.00\" fill=\"#000000\">gini = 0.483</text>\n<text text-anchor=\"start\" x=\"1615.5\" y=\"-379.8\" font-family=\"Helvetica,sans-Serif\" font-size=\"14.00\" fill=\"#000000\">samples = 27</text>\n<text text-anchor=\"start\" x=\"1609.5\" y=\"-364.8\" font-family=\"Helvetica,sans-Serif\" font-size=\"14.00\" fill=\"#000000\">value = [16, 11]</text>\n<text text-anchor=\"start\" x=\"1630.5\" y=\"-349.8\" font-family=\"Helvetica,sans-Serif\" font-size=\"14.00\" fill=\"#000000\">class = 0</text>\n</g>\n<!-- 28&#45;&gt;29 -->\n<g id=\"edge29\" class=\"edge\">\n<title>28&#45;&gt;29</title>\n<path fill=\"none\" stroke=\"#000000\" d=\"M1659.5,-460.8796C1659.5,-452.6838 1659.5,-443.9891 1659.5,-435.5013\"/>\n<polygon fill=\"#000000\" stroke=\"#000000\" points=\"1663.0001,-435.298 1659.5,-425.2981 1656.0001,-435.2981 1663.0001,-435.298\"/>\n</g>\n<!-- 38 -->\n<g id=\"node39\" class=\"node\">\n<title>38</title>\n<path fill=\"#5fb0ea\" stroke=\"#000000\" d=\"M2219,-425C2219,-425 2112,-425 2112,-425 2106,-425 2100,-419 2100,-413 2100,-413 2100,-354 2100,-354 2100,-348 2106,-342 2112,-342 2112,-342 2219,-342 2219,-342 2225,-342 2231,-348 2231,-354 2231,-354 2231,-413 2231,-413 2231,-419 2225,-425 2219,-425\"/>\n<text text-anchor=\"start\" x=\"2108\" y=\"-409.8\" font-family=\"Helvetica,sans-Serif\" font-size=\"14.00\" fill=\"#000000\">social_class ≤ 1.5</text>\n<text text-anchor=\"start\" x=\"2132\" y=\"-394.8\" font-family=\"Helvetica,sans-Serif\" font-size=\"14.00\" fill=\"#000000\">gini = 0.27</text>\n<text text-anchor=\"start\" x=\"2117.5\" y=\"-379.8\" font-family=\"Helvetica,sans-Serif\" font-size=\"14.00\" fill=\"#000000\">samples = 535</text>\n<text text-anchor=\"start\" x=\"2111.5\" y=\"-364.8\" font-family=\"Helvetica,sans-Serif\" font-size=\"14.00\" fill=\"#000000\">value = [86, 449]</text>\n<text text-anchor=\"start\" x=\"2136.5\" y=\"-349.8\" font-family=\"Helvetica,sans-Serif\" font-size=\"14.00\" fill=\"#000000\">class = 1</text>\n</g>\n<!-- 28&#45;&gt;38 -->\n<g id=\"edge38\" class=\"edge\">\n<title>28&#45;&gt;38</title>\n<path fill=\"none\" stroke=\"#000000\" d=\"M1725.6507,-486.9428C1819.5348,-464.8634 1990.9786,-424.5436 2089.8144,-401.2996\"/>\n<polygon fill=\"#000000\" stroke=\"#000000\" points=\"2090.8014,-404.663 2099.7345,-398.9666 2089.1988,-397.8489 2090.8014,-404.663\"/>\n</g>\n<!-- 30 -->\n<g id=\"node31\" class=\"node\">\n<title>30</title>\n<path fill=\"#e89253\" stroke=\"#000000\" d=\"M1634,-306C1634,-306 1551,-306 1551,-306 1545,-306 1539,-300 1539,-294 1539,-294 1539,-235 1539,-235 1539,-229 1545,-223 1551,-223 1551,-223 1634,-223 1634,-223 1640,-223 1646,-229 1646,-235 1646,-235 1646,-294 1646,-294 1646,-300 1640,-306 1634,-306\"/>\n<text text-anchor=\"start\" x=\"1554\" y=\"-290.8\" font-family=\"Helvetica,sans-Serif\" font-size=\"14.00\" fill=\"#000000\">age ≤ 0.792</text>\n<text text-anchor=\"start\" x=\"1554.5\" y=\"-275.8\" font-family=\"Helvetica,sans-Serif\" font-size=\"14.00\" fill=\"#000000\">gini = 0.208</text>\n<text text-anchor=\"start\" x=\"1548.5\" y=\"-260.8\" font-family=\"Helvetica,sans-Serif\" font-size=\"14.00\" fill=\"#000000\">samples = 17</text>\n<text text-anchor=\"start\" x=\"1547\" y=\"-245.8\" font-family=\"Helvetica,sans-Serif\" font-size=\"14.00\" fill=\"#000000\">value = [15, 2]</text>\n<text text-anchor=\"start\" x=\"1563.5\" y=\"-230.8\" font-family=\"Helvetica,sans-Serif\" font-size=\"14.00\" fill=\"#000000\">class = 0</text>\n</g>\n<!-- 29&#45;&gt;30 -->\n<g id=\"edge30\" class=\"edge\">\n<title>29&#45;&gt;30</title>\n<path fill=\"none\" stroke=\"#000000\" d=\"M1636.0667,-341.8796C1631.1987,-333.2335 1626.0181,-324.0322 1620.9914,-315.1042\"/>\n<polygon fill=\"#000000\" stroke=\"#000000\" points=\"1623.9893,-313.2947 1616.0334,-306.2981 1617.8897,-316.729 1623.9893,-313.2947\"/>\n</g>\n<!-- 33 -->\n<g id=\"node34\" class=\"node\">\n<title>33</title>\n<path fill=\"#4fa8e8\" stroke=\"#000000\" d=\"M1776.5,-306C1776.5,-306 1676.5,-306 1676.5,-306 1670.5,-306 1664.5,-300 1664.5,-294 1664.5,-294 1664.5,-235 1664.5,-235 1664.5,-229 1670.5,-223 1676.5,-223 1676.5,-223 1776.5,-223 1776.5,-223 1782.5,-223 1788.5,-229 1788.5,-235 1788.5,-235 1788.5,-294 1788.5,-294 1788.5,-300 1782.5,-306 1776.5,-306\"/>\n<text text-anchor=\"start\" x=\"1672.5\" y=\"-290.8\" font-family=\"Helvetica,sans-Serif\" font-size=\"14.00\" fill=\"#000000\">family_size ≤ 5.5</text>\n<text text-anchor=\"start\" x=\"1693\" y=\"-275.8\" font-family=\"Helvetica,sans-Serif\" font-size=\"14.00\" fill=\"#000000\">gini = 0.18</text>\n<text text-anchor=\"start\" x=\"1682.5\" y=\"-260.8\" font-family=\"Helvetica,sans-Serif\" font-size=\"14.00\" fill=\"#000000\">samples = 10</text>\n<text text-anchor=\"start\" x=\"1685\" y=\"-245.8\" font-family=\"Helvetica,sans-Serif\" font-size=\"14.00\" fill=\"#000000\">value = [1, 9]</text>\n<text text-anchor=\"start\" x=\"1697.5\" y=\"-230.8\" font-family=\"Helvetica,sans-Serif\" font-size=\"14.00\" fill=\"#000000\">class = 1</text>\n</g>\n<!-- 29&#45;&gt;33 -->\n<g id=\"edge33\" class=\"edge\">\n<title>29&#45;&gt;33</title>\n<path fill=\"none\" stroke=\"#000000\" d=\"M1682.9333,-341.8796C1687.8013,-333.2335 1692.9819,-324.0322 1698.0086,-315.1042\"/>\n<polygon fill=\"#000000\" stroke=\"#000000\" points=\"1701.1103,-316.729 1702.9666,-306.2981 1695.0107,-313.2947 1701.1103,-316.729\"/>\n</g>\n<!-- 31 -->\n<g id=\"node32\" class=\"node\">\n<title>31</title>\n<path fill=\"#399de5\" stroke=\"#000000\" d=\"M1515,-179.5C1515,-179.5 1440,-179.5 1440,-179.5 1434,-179.5 1428,-173.5 1428,-167.5 1428,-167.5 1428,-123.5 1428,-123.5 1428,-117.5 1434,-111.5 1440,-111.5 1440,-111.5 1515,-111.5 1515,-111.5 1521,-111.5 1527,-117.5 1527,-123.5 1527,-123.5 1527,-167.5 1527,-167.5 1527,-173.5 1521,-179.5 1515,-179.5\"/>\n<text text-anchor=\"start\" x=\"1448\" y=\"-164.3\" font-family=\"Helvetica,sans-Serif\" font-size=\"14.00\" fill=\"#000000\">gini = 0.0</text>\n<text text-anchor=\"start\" x=\"1438\" y=\"-149.3\" font-family=\"Helvetica,sans-Serif\" font-size=\"14.00\" fill=\"#000000\">samples = 2</text>\n<text text-anchor=\"start\" x=\"1436\" y=\"-134.3\" font-family=\"Helvetica,sans-Serif\" font-size=\"14.00\" fill=\"#000000\">value = [0, 2]</text>\n<text text-anchor=\"start\" x=\"1448.5\" y=\"-119.3\" font-family=\"Helvetica,sans-Serif\" font-size=\"14.00\" fill=\"#000000\">class = 1</text>\n</g>\n<!-- 30&#45;&gt;31 -->\n<g id=\"edge31\" class=\"edge\">\n<title>30&#45;&gt;31</title>\n<path fill=\"none\" stroke=\"#000000\" d=\"M1552.2786,-222.8796C1541.1208,-211.3337 1529.0061,-198.7976 1517.8414,-187.2446\"/>\n<polygon fill=\"#000000\" stroke=\"#000000\" points=\"1520.1275,-184.5736 1510.6615,-179.8149 1515.0939,-189.4381 1520.1275,-184.5736\"/>\n</g>\n<!-- 32 -->\n<g id=\"node33\" class=\"node\">\n<title>32</title>\n<path fill=\"#e58139\" stroke=\"#000000\" d=\"M1640,-179.5C1640,-179.5 1557,-179.5 1557,-179.5 1551,-179.5 1545,-173.5 1545,-167.5 1545,-167.5 1545,-123.5 1545,-123.5 1545,-117.5 1551,-111.5 1557,-111.5 1557,-111.5 1640,-111.5 1640,-111.5 1646,-111.5 1652,-117.5 1652,-123.5 1652,-123.5 1652,-167.5 1652,-167.5 1652,-173.5 1646,-179.5 1640,-179.5\"/>\n<text text-anchor=\"start\" x=\"1569\" y=\"-164.3\" font-family=\"Helvetica,sans-Serif\" font-size=\"14.00\" fill=\"#000000\">gini = 0.0</text>\n<text text-anchor=\"start\" x=\"1554.5\" y=\"-149.3\" font-family=\"Helvetica,sans-Serif\" font-size=\"14.00\" fill=\"#000000\">samples = 15</text>\n<text text-anchor=\"start\" x=\"1553\" y=\"-134.3\" font-family=\"Helvetica,sans-Serif\" font-size=\"14.00\" fill=\"#000000\">value = [15, 0]</text>\n<text text-anchor=\"start\" x=\"1569.5\" y=\"-119.3\" font-family=\"Helvetica,sans-Serif\" font-size=\"14.00\" fill=\"#000000\">class = 0</text>\n</g>\n<!-- 30&#45;&gt;32 -->\n<g id=\"edge32\" class=\"edge\">\n<title>30&#45;&gt;32</title>\n<path fill=\"none\" stroke=\"#000000\" d=\"M1594.5985,-222.8796C1595.1363,-212.2134 1595.7167,-200.7021 1596.2613,-189.9015\"/>\n<polygon fill=\"#000000\" stroke=\"#000000\" points=\"1599.7617,-189.9785 1596.7698,-179.8149 1592.7706,-189.626 1599.7617,-189.9785\"/>\n</g>\n<!-- 34 -->\n<g id=\"node35\" class=\"node\">\n<title>34</title>\n<path fill=\"#399de5\" stroke=\"#000000\" d=\"M1757,-179.5C1757,-179.5 1682,-179.5 1682,-179.5 1676,-179.5 1670,-173.5 1670,-167.5 1670,-167.5 1670,-123.5 1670,-123.5 1670,-117.5 1676,-111.5 1682,-111.5 1682,-111.5 1757,-111.5 1757,-111.5 1763,-111.5 1769,-117.5 1769,-123.5 1769,-123.5 1769,-167.5 1769,-167.5 1769,-173.5 1763,-179.5 1757,-179.5\"/>\n<text text-anchor=\"start\" x=\"1690\" y=\"-164.3\" font-family=\"Helvetica,sans-Serif\" font-size=\"14.00\" fill=\"#000000\">gini = 0.0</text>\n<text text-anchor=\"start\" x=\"1680\" y=\"-149.3\" font-family=\"Helvetica,sans-Serif\" font-size=\"14.00\" fill=\"#000000\">samples = 7</text>\n<text text-anchor=\"start\" x=\"1678\" y=\"-134.3\" font-family=\"Helvetica,sans-Serif\" font-size=\"14.00\" fill=\"#000000\">value = [0, 7]</text>\n<text text-anchor=\"start\" x=\"1690.5\" y=\"-119.3\" font-family=\"Helvetica,sans-Serif\" font-size=\"14.00\" fill=\"#000000\">class = 1</text>\n</g>\n<!-- 33&#45;&gt;34 -->\n<g id=\"edge34\" class=\"edge\">\n<title>33&#45;&gt;34</title>\n<path fill=\"none\" stroke=\"#000000\" d=\"M1724.0517,-222.8796C1723.4243,-212.2134 1722.7472,-200.7021 1722.1119,-189.9015\"/>\n<polygon fill=\"#000000\" stroke=\"#000000\" points=\"1725.5998,-189.5921 1721.5185,-179.8149 1718.6119,-190.0032 1725.5998,-189.5921\"/>\n</g>\n<!-- 35 -->\n<g id=\"node36\" class=\"node\">\n<title>35</title>\n<path fill=\"#9ccef2\" stroke=\"#000000\" d=\"M1933.5,-187C1933.5,-187 1799.5,-187 1799.5,-187 1793.5,-187 1787.5,-181 1787.5,-175 1787.5,-175 1787.5,-116 1787.5,-116 1787.5,-110 1793.5,-104 1799.5,-104 1799.5,-104 1933.5,-104 1933.5,-104 1939.5,-104 1945.5,-110 1945.5,-116 1945.5,-116 1945.5,-175 1945.5,-175 1945.5,-181 1939.5,-187 1933.5,-187\"/>\n<text text-anchor=\"start\" x=\"1795.5\" y=\"-171.8\" font-family=\"Helvetica,sans-Serif\" font-size=\"14.00\" fill=\"#000000\">housenumber ≤ 151.0</text>\n<text text-anchor=\"start\" x=\"1828.5\" y=\"-156.8\" font-family=\"Helvetica,sans-Serif\" font-size=\"14.00\" fill=\"#000000\">gini = 0.444</text>\n<text text-anchor=\"start\" x=\"1827\" y=\"-141.8\" font-family=\"Helvetica,sans-Serif\" font-size=\"14.00\" fill=\"#000000\">samples = 3</text>\n<text text-anchor=\"start\" x=\"1825\" y=\"-126.8\" font-family=\"Helvetica,sans-Serif\" font-size=\"14.00\" fill=\"#000000\">value = [1, 2]</text>\n<text text-anchor=\"start\" x=\"1837.5\" y=\"-111.8\" font-family=\"Helvetica,sans-Serif\" font-size=\"14.00\" fill=\"#000000\">class = 1</text>\n</g>\n<!-- 33&#45;&gt;35 -->\n<g id=\"edge35\" class=\"edge\">\n<title>33&#45;&gt;35</title>\n<path fill=\"none\" stroke=\"#000000\" d=\"M1775.4652,-222.8796C1786.4847,-213.513 1798.2709,-203.4948 1809.5842,-193.8784\"/>\n<polygon fill=\"#000000\" stroke=\"#000000\" points=\"1811.9732,-196.4414 1817.3258,-187.2981 1807.4396,-191.1078 1811.9732,-196.4414\"/>\n</g>\n<!-- 36 -->\n<g id=\"node37\" class=\"node\">\n<title>36</title>\n<path fill=\"#e58139\" stroke=\"#000000\" d=\"M1787,-68C1787,-68 1712,-68 1712,-68 1706,-68 1700,-62 1700,-56 1700,-56 1700,-12 1700,-12 1700,-6 1706,0 1712,0 1712,0 1787,0 1787,0 1793,0 1799,-6 1799,-12 1799,-12 1799,-56 1799,-56 1799,-62 1793,-68 1787,-68\"/>\n<text text-anchor=\"start\" x=\"1720\" y=\"-52.8\" font-family=\"Helvetica,sans-Serif\" font-size=\"14.00\" fill=\"#000000\">gini = 0.0</text>\n<text text-anchor=\"start\" x=\"1710\" y=\"-37.8\" font-family=\"Helvetica,sans-Serif\" font-size=\"14.00\" fill=\"#000000\">samples = 1</text>\n<text text-anchor=\"start\" x=\"1708\" y=\"-22.8\" font-family=\"Helvetica,sans-Serif\" font-size=\"14.00\" fill=\"#000000\">value = [1, 0]</text>\n<text text-anchor=\"start\" x=\"1720.5\" y=\"-7.8\" font-family=\"Helvetica,sans-Serif\" font-size=\"14.00\" fill=\"#000000\">class = 0</text>\n</g>\n<!-- 35&#45;&gt;36 -->\n<g id=\"edge36\" class=\"edge\">\n<title>35&#45;&gt;36</title>\n<path fill=\"none\" stroke=\"#000000\" d=\"M1822.9335,-103.9815C1813.0966,-94.607 1802.656,-84.6572 1792.8289,-75.2921\"/>\n<polygon fill=\"#000000\" stroke=\"#000000\" points=\"1795.1076,-72.6289 1785.4538,-68.2637 1790.2784,-77.6963 1795.1076,-72.6289\"/>\n</g>\n<!-- 37 -->\n<g id=\"node38\" class=\"node\">\n<title>37</title>\n<path fill=\"#399de5\" stroke=\"#000000\" d=\"M1904,-68C1904,-68 1829,-68 1829,-68 1823,-68 1817,-62 1817,-56 1817,-56 1817,-12 1817,-12 1817,-6 1823,0 1829,0 1829,0 1904,0 1904,0 1910,0 1916,-6 1916,-12 1916,-12 1916,-56 1916,-56 1916,-62 1910,-68 1904,-68\"/>\n<text text-anchor=\"start\" x=\"1837\" y=\"-52.8\" font-family=\"Helvetica,sans-Serif\" font-size=\"14.00\" fill=\"#000000\">gini = 0.0</text>\n<text text-anchor=\"start\" x=\"1827\" y=\"-37.8\" font-family=\"Helvetica,sans-Serif\" font-size=\"14.00\" fill=\"#000000\">samples = 2</text>\n<text text-anchor=\"start\" x=\"1825\" y=\"-22.8\" font-family=\"Helvetica,sans-Serif\" font-size=\"14.00\" fill=\"#000000\">value = [0, 2]</text>\n<text text-anchor=\"start\" x=\"1837.5\" y=\"-7.8\" font-family=\"Helvetica,sans-Serif\" font-size=\"14.00\" fill=\"#000000\">class = 1</text>\n</g>\n<!-- 35&#45;&gt;37 -->\n<g id=\"edge37\" class=\"edge\">\n<title>35&#45;&gt;37</title>\n<path fill=\"none\" stroke=\"#000000\" d=\"M1866.5,-103.9815C1866.5,-95.618 1866.5,-86.7965 1866.5,-78.3409\"/>\n<polygon fill=\"#000000\" stroke=\"#000000\" points=\"1870.0001,-78.2636 1866.5,-68.2637 1863.0001,-78.2637 1870.0001,-78.2636\"/>\n</g>\n<!-- 39 -->\n<g id=\"node40\" class=\"node\">\n<title>39</title>\n<path fill=\"#92c9f1\" stroke=\"#000000\" d=\"M2228.5,-306C2228.5,-306 2102.5,-306 2102.5,-306 2096.5,-306 2090.5,-300 2090.5,-294 2090.5,-294 2090.5,-235 2090.5,-235 2090.5,-229 2096.5,-223 2102.5,-223 2102.5,-223 2228.5,-223 2228.5,-223 2234.5,-223 2240.5,-229 2240.5,-235 2240.5,-235 2240.5,-294 2240.5,-294 2240.5,-300 2234.5,-306 2228.5,-306\"/>\n<text text-anchor=\"start\" x=\"2098.5\" y=\"-290.8\" font-family=\"Helvetica,sans-Serif\" font-size=\"14.00\" fill=\"#000000\">housenumber ≤ 39.5</text>\n<text text-anchor=\"start\" x=\"2127.5\" y=\"-275.8\" font-family=\"Helvetica,sans-Serif\" font-size=\"14.00\" fill=\"#000000\">gini = 0.428</text>\n<text text-anchor=\"start\" x=\"2117.5\" y=\"-260.8\" font-family=\"Helvetica,sans-Serif\" font-size=\"14.00\" fill=\"#000000\">samples = 116</text>\n<text text-anchor=\"start\" x=\"2115.5\" y=\"-245.8\" font-family=\"Helvetica,sans-Serif\" font-size=\"14.00\" fill=\"#000000\">value = [36, 80]</text>\n<text text-anchor=\"start\" x=\"2136.5\" y=\"-230.8\" font-family=\"Helvetica,sans-Serif\" font-size=\"14.00\" fill=\"#000000\">class = 1</text>\n</g>\n<!-- 38&#45;&gt;39 -->\n<g id=\"edge39\" class=\"edge\">\n<title>38&#45;&gt;39</title>\n<path fill=\"none\" stroke=\"#000000\" d=\"M2165.5,-341.8796C2165.5,-333.6838 2165.5,-324.9891 2165.5,-316.5013\"/>\n<polygon fill=\"#000000\" stroke=\"#000000\" points=\"2169.0001,-316.298 2165.5,-306.2981 2162.0001,-316.2981 2169.0001,-316.298\"/>\n</g>\n<!-- 46 -->\n<g id=\"node47\" class=\"node\">\n<title>46</title>\n<path fill=\"#54aae9\" stroke=\"#000000\" d=\"M2579.5,-306C2579.5,-306 2453.5,-306 2453.5,-306 2447.5,-306 2441.5,-300 2441.5,-294 2441.5,-294 2441.5,-235 2441.5,-235 2441.5,-229 2447.5,-223 2453.5,-223 2453.5,-223 2579.5,-223 2579.5,-223 2585.5,-223 2591.5,-229 2591.5,-235 2591.5,-235 2591.5,-294 2591.5,-294 2591.5,-300 2585.5,-306 2579.5,-306\"/>\n<text text-anchor=\"start\" x=\"2449.5\" y=\"-290.8\" font-family=\"Helvetica,sans-Serif\" font-size=\"14.00\" fill=\"#000000\">housenumber ≤ 77.5</text>\n<text text-anchor=\"start\" x=\"2483\" y=\"-275.8\" font-family=\"Helvetica,sans-Serif\" font-size=\"14.00\" fill=\"#000000\">gini = 0.21</text>\n<text text-anchor=\"start\" x=\"2468.5\" y=\"-260.8\" font-family=\"Helvetica,sans-Serif\" font-size=\"14.00\" fill=\"#000000\">samples = 419</text>\n<text text-anchor=\"start\" x=\"2462.5\" y=\"-245.8\" font-family=\"Helvetica,sans-Serif\" font-size=\"14.00\" fill=\"#000000\">value = [50, 369]</text>\n<text text-anchor=\"start\" x=\"2487.5\" y=\"-230.8\" font-family=\"Helvetica,sans-Serif\" font-size=\"14.00\" fill=\"#000000\">class = 1</text>\n</g>\n<!-- 38&#45;&gt;46 -->\n<g id=\"edge46\" class=\"edge\">\n<title>38&#45;&gt;46</title>\n<path fill=\"none\" stroke=\"#000000\" d=\"M2231.1087,-361.2566C2287.8008,-342.0362 2370.0927,-314.1367 2431.7588,-293.2299\"/>\n<polygon fill=\"#000000\" stroke=\"#000000\" points=\"2433.125,-296.4625 2441.4717,-289.9369 2430.8774,-289.8331 2433.125,-296.4625\"/>\n</g>\n<!-- 40 -->\n<g id=\"node41\" class=\"node\">\n<title>40</title>\n<path fill=\"#48a5e7\" stroke=\"#000000\" d=\"M2142.5,-187C2142.5,-187 2024.5,-187 2024.5,-187 2018.5,-187 2012.5,-181 2012.5,-175 2012.5,-175 2012.5,-116 2012.5,-116 2012.5,-110 2018.5,-104 2024.5,-104 2024.5,-104 2142.5,-104 2142.5,-104 2148.5,-104 2154.5,-110 2154.5,-116 2154.5,-116 2154.5,-175 2154.5,-175 2154.5,-181 2148.5,-187 2142.5,-187\"/>\n<text text-anchor=\"start\" x=\"2020.5\" y=\"-171.8\" font-family=\"Helvetica,sans-Serif\" font-size=\"14.00\" fill=\"#000000\">housenumber ≤ 5.0</text>\n<text text-anchor=\"start\" x=\"2045.5\" y=\"-156.8\" font-family=\"Helvetica,sans-Serif\" font-size=\"14.00\" fill=\"#000000\">gini = 0.133</text>\n<text text-anchor=\"start\" x=\"2039.5\" y=\"-141.8\" font-family=\"Helvetica,sans-Serif\" font-size=\"14.00\" fill=\"#000000\">samples = 14</text>\n<text text-anchor=\"start\" x=\"2038\" y=\"-126.8\" font-family=\"Helvetica,sans-Serif\" font-size=\"14.00\" fill=\"#000000\">value = [1, 13]</text>\n<text text-anchor=\"start\" x=\"2054.5\" y=\"-111.8\" font-family=\"Helvetica,sans-Serif\" font-size=\"14.00\" fill=\"#000000\">class = 1</text>\n</g>\n<!-- 39&#45;&gt;40 -->\n<g id=\"edge40\" class=\"edge\">\n<title>39&#45;&gt;40</title>\n<path fill=\"none\" stroke=\"#000000\" d=\"M2136.8204,-222.8796C2130.7385,-214.0534 2124.2578,-204.6485 2117.9859,-195.5466\"/>\n<polygon fill=\"#000000\" stroke=\"#000000\" points=\"2120.8582,-193.5465 2112.302,-187.2981 2115.0941,-197.5184 2120.8582,-193.5465\"/>\n</g>\n<!-- 43 -->\n<g id=\"node44\" class=\"node\">\n<title>43</title>\n<path fill=\"#a0d0f3\" stroke=\"#000000\" d=\"M2310.5,-187C2310.5,-187 2184.5,-187 2184.5,-187 2178.5,-187 2172.5,-181 2172.5,-175 2172.5,-175 2172.5,-116 2172.5,-116 2172.5,-110 2178.5,-104 2184.5,-104 2184.5,-104 2310.5,-104 2310.5,-104 2316.5,-104 2322.5,-110 2322.5,-116 2322.5,-116 2322.5,-175 2322.5,-175 2322.5,-181 2316.5,-187 2310.5,-187\"/>\n<text text-anchor=\"start\" x=\"2180.5\" y=\"-171.8\" font-family=\"Helvetica,sans-Serif\" font-size=\"14.00\" fill=\"#000000\">housenumber ≤ 49.0</text>\n<text text-anchor=\"start\" x=\"2209.5\" y=\"-156.8\" font-family=\"Helvetica,sans-Serif\" font-size=\"14.00\" fill=\"#000000\">gini = 0.451</text>\n<text text-anchor=\"start\" x=\"2199.5\" y=\"-141.8\" font-family=\"Helvetica,sans-Serif\" font-size=\"14.00\" fill=\"#000000\">samples = 102</text>\n<text text-anchor=\"start\" x=\"2197.5\" y=\"-126.8\" font-family=\"Helvetica,sans-Serif\" font-size=\"14.00\" fill=\"#000000\">value = [35, 67]</text>\n<text text-anchor=\"start\" x=\"2218.5\" y=\"-111.8\" font-family=\"Helvetica,sans-Serif\" font-size=\"14.00\" fill=\"#000000\">class = 1</text>\n</g>\n<!-- 39&#45;&gt;43 -->\n<g id=\"edge43\" class=\"edge\">\n<title>39&#45;&gt;43</title>\n<path fill=\"none\" stroke=\"#000000\" d=\"M2194.1796,-222.8796C2200.2615,-214.0534 2206.7422,-204.6485 2213.0141,-195.5466\"/>\n<polygon fill=\"#000000\" stroke=\"#000000\" points=\"2215.9059,-197.5184 2218.698,-187.2981 2210.1418,-193.5465 2215.9059,-197.5184\"/>\n</g>\n<!-- 41 -->\n<g id=\"node42\" class=\"node\">\n<title>41</title>\n<path fill=\"#e58139\" stroke=\"#000000\" d=\"M2021,-68C2021,-68 1946,-68 1946,-68 1940,-68 1934,-62 1934,-56 1934,-56 1934,-12 1934,-12 1934,-6 1940,0 1946,0 1946,0 2021,0 2021,0 2027,0 2033,-6 2033,-12 2033,-12 2033,-56 2033,-56 2033,-62 2027,-68 2021,-68\"/>\n<text text-anchor=\"start\" x=\"1954\" y=\"-52.8\" font-family=\"Helvetica,sans-Serif\" font-size=\"14.00\" fill=\"#000000\">gini = 0.0</text>\n<text text-anchor=\"start\" x=\"1944\" y=\"-37.8\" font-family=\"Helvetica,sans-Serif\" font-size=\"14.00\" fill=\"#000000\">samples = 1</text>\n<text text-anchor=\"start\" x=\"1942\" y=\"-22.8\" font-family=\"Helvetica,sans-Serif\" font-size=\"14.00\" fill=\"#000000\">value = [1, 0]</text>\n<text text-anchor=\"start\" x=\"1954.5\" y=\"-7.8\" font-family=\"Helvetica,sans-Serif\" font-size=\"14.00\" fill=\"#000000\">class = 0</text>\n</g>\n<!-- 40&#45;&gt;41 -->\n<g id=\"edge41\" class=\"edge\">\n<title>40&#45;&gt;41</title>\n<path fill=\"none\" stroke=\"#000000\" d=\"M2046.2637,-103.9815C2038.0209,-94.7908 2029.2822,-85.0472 2021.0279,-75.8436\"/>\n<polygon fill=\"#000000\" stroke=\"#000000\" points=\"2023.5121,-73.3714 2014.2298,-68.2637 2018.3009,-78.0451 2023.5121,-73.3714\"/>\n</g>\n<!-- 42 -->\n<g id=\"node43\" class=\"node\">\n<title>42</title>\n<path fill=\"#399de5\" stroke=\"#000000\" d=\"M2146,-68C2146,-68 2063,-68 2063,-68 2057,-68 2051,-62 2051,-56 2051,-56 2051,-12 2051,-12 2051,-6 2057,0 2063,0 2063,0 2146,0 2146,0 2152,0 2158,-6 2158,-12 2158,-12 2158,-56 2158,-56 2158,-62 2152,-68 2146,-68\"/>\n<text text-anchor=\"start\" x=\"2075\" y=\"-52.8\" font-family=\"Helvetica,sans-Serif\" font-size=\"14.00\" fill=\"#000000\">gini = 0.0</text>\n<text text-anchor=\"start\" x=\"2060.5\" y=\"-37.8\" font-family=\"Helvetica,sans-Serif\" font-size=\"14.00\" fill=\"#000000\">samples = 13</text>\n<text text-anchor=\"start\" x=\"2059\" y=\"-22.8\" font-family=\"Helvetica,sans-Serif\" font-size=\"14.00\" fill=\"#000000\">value = [0, 13]</text>\n<text text-anchor=\"start\" x=\"2075.5\" y=\"-7.8\" font-family=\"Helvetica,sans-Serif\" font-size=\"14.00\" fill=\"#000000\">class = 1</text>\n</g>\n<!-- 40&#45;&gt;42 -->\n<g id=\"edge42\" class=\"edge\">\n<title>40&#45;&gt;42</title>\n<path fill=\"none\" stroke=\"#000000\" d=\"M2091.3196,-103.9815C2092.8948,-95.618 2094.5563,-86.7965 2096.1488,-78.3409\"/>\n<polygon fill=\"#000000\" stroke=\"#000000\" points=\"2099.6353,-78.7387 2098.0468,-68.2637 2092.7563,-77.4431 2099.6353,-78.7387\"/>\n</g>\n<!-- 44 -->\n<g id=\"node45\" class=\"node\">\n<title>44</title>\n<path fill=\"#ea9a61\" stroke=\"#000000\" d=\"M2263,-68C2263,-68 2188,-68 2188,-68 2182,-68 2176,-62 2176,-56 2176,-56 2176,-12 2176,-12 2176,-6 2182,0 2188,0 2188,0 2263,0 2263,0 2269,0 2275,-6 2275,-12 2275,-12 2275,-56 2275,-56 2275,-62 2269,-68 2263,-68\"/>\n<text text-anchor=\"start\" x=\"2187.5\" y=\"-52.8\" font-family=\"Helvetica,sans-Serif\" font-size=\"14.00\" fill=\"#000000\">gini = 0.278</text>\n<text text-anchor=\"start\" x=\"2186\" y=\"-37.8\" font-family=\"Helvetica,sans-Serif\" font-size=\"14.00\" fill=\"#000000\">samples = 6</text>\n<text text-anchor=\"start\" x=\"2184\" y=\"-22.8\" font-family=\"Helvetica,sans-Serif\" font-size=\"14.00\" fill=\"#000000\">value = [5, 1]</text>\n<text text-anchor=\"start\" x=\"2196.5\" y=\"-7.8\" font-family=\"Helvetica,sans-Serif\" font-size=\"14.00\" fill=\"#000000\">class = 0</text>\n</g>\n<!-- 43&#45;&gt;44 -->\n<g id=\"edge44\" class=\"edge\">\n<title>43&#45;&gt;44</title>\n<path fill=\"none\" stroke=\"#000000\" d=\"M2239.308,-103.9815C2237.6578,-95.618 2235.9173,-86.7965 2234.2489,-78.3409\"/>\n<polygon fill=\"#000000\" stroke=\"#000000\" points=\"2237.6302,-77.397 2232.2605,-68.2637 2230.7626,-78.7521 2237.6302,-77.397\"/>\n</g>\n<!-- 45 -->\n<g id=\"node46\" class=\"node\">\n<title>45</title>\n<path fill=\"#93caf1\" stroke=\"#000000\" d=\"M2397.5,-68C2397.5,-68 2305.5,-68 2305.5,-68 2299.5,-68 2293.5,-62 2293.5,-56 2293.5,-56 2293.5,-12 2293.5,-12 2293.5,-6 2299.5,0 2305.5,0 2305.5,0 2397.5,0 2397.5,0 2403.5,0 2409.5,-6 2409.5,-12 2409.5,-12 2409.5,-56 2409.5,-56 2409.5,-62 2403.5,-68 2397.5,-68\"/>\n<text text-anchor=\"start\" x=\"2318\" y=\"-52.8\" font-family=\"Helvetica,sans-Serif\" font-size=\"14.00\" fill=\"#000000\">gini = 0.43</text>\n<text text-anchor=\"start\" x=\"2307.5\" y=\"-37.8\" font-family=\"Helvetica,sans-Serif\" font-size=\"14.00\" fill=\"#000000\">samples = 96</text>\n<text text-anchor=\"start\" x=\"2301.5\" y=\"-22.8\" font-family=\"Helvetica,sans-Serif\" font-size=\"14.00\" fill=\"#000000\">value = [30, 66]</text>\n<text text-anchor=\"start\" x=\"2322.5\" y=\"-7.8\" font-family=\"Helvetica,sans-Serif\" font-size=\"14.00\" fill=\"#000000\">class = 1</text>\n</g>\n<!-- 43&#45;&gt;45 -->\n<g id=\"edge45\" class=\"edge\">\n<title>43&#45;&gt;45</title>\n<path fill=\"none\" stroke=\"#000000\" d=\"M2286.2258,-103.9815C2294.7982,-94.7908 2303.8865,-85.0472 2312.471,-75.8436\"/>\n<polygon fill=\"#000000\" stroke=\"#000000\" points=\"2315.2796,-77.9637 2319.5411,-68.2637 2310.1607,-73.1891 2315.2796,-77.9637\"/>\n</g>\n<!-- 47 -->\n<g id=\"node48\" class=\"node\">\n<title>47</title>\n<path fill=\"#69b5eb\" stroke=\"#000000\" d=\"M2601,-187C2601,-187 2432,-187 2432,-187 2426,-187 2420,-181 2420,-175 2420,-175 2420,-116 2420,-116 2420,-110 2426,-104 2432,-104 2432,-104 2601,-104 2601,-104 2607,-104 2613,-110 2613,-116 2613,-116 2613,-175 2613,-175 2613,-181 2607,-187 2601,-187\"/>\n<text text-anchor=\"start\" x=\"2428\" y=\"-171.8\" font-family=\"Helvetica,sans-Serif\" font-size=\"14.00\" fill=\"#000000\">annual_income ≤ 516979.0</text>\n<text text-anchor=\"start\" x=\"2478.5\" y=\"-156.8\" font-family=\"Helvetica,sans-Serif\" font-size=\"14.00\" fill=\"#000000\">gini = 0.314</text>\n<text text-anchor=\"start\" x=\"2468.5\" y=\"-141.8\" font-family=\"Helvetica,sans-Serif\" font-size=\"14.00\" fill=\"#000000\">samples = 113</text>\n<text text-anchor=\"start\" x=\"2466.5\" y=\"-126.8\" font-family=\"Helvetica,sans-Serif\" font-size=\"14.00\" fill=\"#000000\">value = [22, 91]</text>\n<text text-anchor=\"start\" x=\"2487.5\" y=\"-111.8\" font-family=\"Helvetica,sans-Serif\" font-size=\"14.00\" fill=\"#000000\">class = 1</text>\n</g>\n<!-- 46&#45;&gt;47 -->\n<g id=\"edge47\" class=\"edge\">\n<title>46&#45;&gt;47</title>\n<path fill=\"none\" stroke=\"#000000\" d=\"M2516.5,-222.8796C2516.5,-214.6838 2516.5,-205.9891 2516.5,-197.5013\"/>\n<polygon fill=\"#000000\" stroke=\"#000000\" points=\"2520.0001,-197.298 2516.5,-187.2981 2513.0001,-197.2981 2520.0001,-197.298\"/>\n</g>\n<!-- 50 -->\n<g id=\"node51\" class=\"node\">\n<title>50</title>\n<path fill=\"#4da7e8\" stroke=\"#000000\" d=\"M2808.5,-187C2808.5,-187 2674.5,-187 2674.5,-187 2668.5,-187 2662.5,-181 2662.5,-175 2662.5,-175 2662.5,-116 2662.5,-116 2662.5,-110 2668.5,-104 2674.5,-104 2674.5,-104 2808.5,-104 2808.5,-104 2814.5,-104 2820.5,-110 2820.5,-116 2820.5,-116 2820.5,-175 2820.5,-175 2820.5,-181 2814.5,-187 2808.5,-187\"/>\n<text text-anchor=\"start\" x=\"2670.5\" y=\"-171.8\" font-family=\"Helvetica,sans-Serif\" font-size=\"14.00\" fill=\"#000000\">housenumber ≤ 255.0</text>\n<text text-anchor=\"start\" x=\"2703.5\" y=\"-156.8\" font-family=\"Helvetica,sans-Serif\" font-size=\"14.00\" fill=\"#000000\">gini = 0.166</text>\n<text text-anchor=\"start\" x=\"2693.5\" y=\"-141.8\" font-family=\"Helvetica,sans-Serif\" font-size=\"14.00\" fill=\"#000000\">samples = 306</text>\n<text text-anchor=\"start\" x=\"2687.5\" y=\"-126.8\" font-family=\"Helvetica,sans-Serif\" font-size=\"14.00\" fill=\"#000000\">value = [28, 278]</text>\n<text text-anchor=\"start\" x=\"2712.5\" y=\"-111.8\" font-family=\"Helvetica,sans-Serif\" font-size=\"14.00\" fill=\"#000000\">class = 1</text>\n</g>\n<!-- 46&#45;&gt;50 -->\n<g id=\"edge50\" class=\"edge\">\n<title>46&#45;&gt;50</title>\n<path fill=\"none\" stroke=\"#000000\" d=\"M2591.7346,-224.7093C2611.6544,-214.1739 2633.3316,-202.7091 2653.8482,-191.8581\"/>\n<polygon fill=\"#000000\" stroke=\"#000000\" points=\"2655.6673,-194.8554 2662.8707,-187.0862 2652.3946,-188.6675 2655.6673,-194.8554\"/>\n</g>\n<!-- 48 -->\n<g id=\"node49\" class=\"node\">\n<title>48</title>\n<path fill=\"#63b2eb\" stroke=\"#000000\" d=\"M2531.5,-68C2531.5,-68 2439.5,-68 2439.5,-68 2433.5,-68 2427.5,-62 2427.5,-56 2427.5,-56 2427.5,-12 2427.5,-12 2427.5,-6 2433.5,0 2439.5,0 2439.5,0 2531.5,0 2531.5,0 2537.5,0 2543.5,-6 2543.5,-12 2543.5,-12 2543.5,-56 2543.5,-56 2543.5,-62 2537.5,-68 2531.5,-68\"/>\n<text text-anchor=\"start\" x=\"2452\" y=\"-52.8\" font-family=\"Helvetica,sans-Serif\" font-size=\"14.00\" fill=\"#000000\">gini = 0.29</text>\n<text text-anchor=\"start\" x=\"2437.5\" y=\"-37.8\" font-family=\"Helvetica,sans-Serif\" font-size=\"14.00\" fill=\"#000000\">samples = 108</text>\n<text text-anchor=\"start\" x=\"2435.5\" y=\"-22.8\" font-family=\"Helvetica,sans-Serif\" font-size=\"14.00\" fill=\"#000000\">value = [19, 89]</text>\n<text text-anchor=\"start\" x=\"2456.5\" y=\"-7.8\" font-family=\"Helvetica,sans-Serif\" font-size=\"14.00\" fill=\"#000000\">class = 1</text>\n</g>\n<!-- 47&#45;&gt;48 -->\n<g id=\"edge48\" class=\"edge\">\n<title>47&#45;&gt;48</title>\n<path fill=\"none\" stroke=\"#000000\" d=\"M2504.9567,-103.9815C2502.6059,-95.5261 2500.1249,-86.6026 2497.7505,-78.0623\"/>\n<polygon fill=\"#000000\" stroke=\"#000000\" points=\"2501.0771,-76.9607 2495.0262,-68.2637 2494.3329,-78.8358 2501.0771,-76.9607\"/>\n</g>\n<!-- 49 -->\n<g id=\"node50\" class=\"node\">\n<title>49</title>\n<path fill=\"#f6d5bd\" stroke=\"#000000\" d=\"M2649,-68C2649,-68 2574,-68 2574,-68 2568,-68 2562,-62 2562,-56 2562,-56 2562,-12 2562,-12 2562,-6 2568,0 2574,0 2574,0 2649,0 2649,0 2655,0 2661,-6 2661,-12 2661,-12 2661,-56 2661,-56 2661,-62 2655,-68 2649,-68\"/>\n<text text-anchor=\"start\" x=\"2578\" y=\"-52.8\" font-family=\"Helvetica,sans-Serif\" font-size=\"14.00\" fill=\"#000000\">gini = 0.48</text>\n<text text-anchor=\"start\" x=\"2572\" y=\"-37.8\" font-family=\"Helvetica,sans-Serif\" font-size=\"14.00\" fill=\"#000000\">samples = 5</text>\n<text text-anchor=\"start\" x=\"2570\" y=\"-22.8\" font-family=\"Helvetica,sans-Serif\" font-size=\"14.00\" fill=\"#000000\">value = [3, 2]</text>\n<text text-anchor=\"start\" x=\"2582.5\" y=\"-7.8\" font-family=\"Helvetica,sans-Serif\" font-size=\"14.00\" fill=\"#000000\">class = 0</text>\n</g>\n<!-- 47&#45;&gt;49 -->\n<g id=\"edge49\" class=\"edge\">\n<title>47&#45;&gt;49</title>\n<path fill=\"none\" stroke=\"#000000\" d=\"M2551.8745,-103.9815C2559.6268,-94.8828 2567.8409,-85.242 2575.6131,-76.1199\"/>\n<polygon fill=\"#000000\" stroke=\"#000000\" points=\"2578.4854,-78.1454 2582.3067,-68.2637 2573.1572,-73.6056 2578.4854,-78.1454\"/>\n</g>\n<!-- 51 -->\n<g id=\"node52\" class=\"node\">\n<title>51</title>\n<path fill=\"#4ca7e8\" stroke=\"#000000\" d=\"M2791.5,-68C2791.5,-68 2691.5,-68 2691.5,-68 2685.5,-68 2679.5,-62 2679.5,-56 2679.5,-56 2679.5,-12 2679.5,-12 2679.5,-6 2685.5,0 2691.5,0 2691.5,0 2791.5,0 2791.5,0 2797.5,0 2803.5,-6 2803.5,-12 2803.5,-12 2803.5,-56 2803.5,-56 2803.5,-62 2797.5,-68 2791.5,-68\"/>\n<text text-anchor=\"start\" x=\"2703.5\" y=\"-52.8\" font-family=\"Helvetica,sans-Serif\" font-size=\"14.00\" fill=\"#000000\">gini = 0.161</text>\n<text text-anchor=\"start\" x=\"2693.5\" y=\"-37.8\" font-family=\"Helvetica,sans-Serif\" font-size=\"14.00\" fill=\"#000000\">samples = 305</text>\n<text text-anchor=\"start\" x=\"2687.5\" y=\"-22.8\" font-family=\"Helvetica,sans-Serif\" font-size=\"14.00\" fill=\"#000000\">value = [27, 278]</text>\n<text text-anchor=\"start\" x=\"2712.5\" y=\"-7.8\" font-family=\"Helvetica,sans-Serif\" font-size=\"14.00\" fill=\"#000000\">class = 1</text>\n</g>\n<!-- 50&#45;&gt;51 -->\n<g id=\"edge51\" class=\"edge\">\n<title>50&#45;&gt;51</title>\n<path fill=\"none\" stroke=\"#000000\" d=\"M2741.5,-103.9815C2741.5,-95.618 2741.5,-86.7965 2741.5,-78.3409\"/>\n<polygon fill=\"#000000\" stroke=\"#000000\" points=\"2745.0001,-78.2636 2741.5,-68.2637 2738.0001,-78.2637 2745.0001,-78.2636\"/>\n</g>\n<!-- 52 -->\n<g id=\"node53\" class=\"node\">\n<title>52</title>\n<path fill=\"#e58139\" stroke=\"#000000\" d=\"M2909,-68C2909,-68 2834,-68 2834,-68 2828,-68 2822,-62 2822,-56 2822,-56 2822,-12 2822,-12 2822,-6 2828,0 2834,0 2834,0 2909,0 2909,0 2915,0 2921,-6 2921,-12 2921,-12 2921,-56 2921,-56 2921,-62 2915,-68 2909,-68\"/>\n<text text-anchor=\"start\" x=\"2842\" y=\"-52.8\" font-family=\"Helvetica,sans-Serif\" font-size=\"14.00\" fill=\"#000000\">gini = 0.0</text>\n<text text-anchor=\"start\" x=\"2832\" y=\"-37.8\" font-family=\"Helvetica,sans-Serif\" font-size=\"14.00\" fill=\"#000000\">samples = 1</text>\n<text text-anchor=\"start\" x=\"2830\" y=\"-22.8\" font-family=\"Helvetica,sans-Serif\" font-size=\"14.00\" fill=\"#000000\">value = [1, 0]</text>\n<text text-anchor=\"start\" x=\"2842.5\" y=\"-7.8\" font-family=\"Helvetica,sans-Serif\" font-size=\"14.00\" fill=\"#000000\">class = 0</text>\n</g>\n<!-- 50&#45;&gt;52 -->\n<g id=\"edge52\" class=\"edge\">\n<title>50&#45;&gt;52</title>\n<path fill=\"none\" stroke=\"#000000\" d=\"M2789.9072,-103.9815C2800.9442,-94.5151 2812.6653,-84.462 2823.6777,-75.0168\"/>\n<polygon fill=\"#000000\" stroke=\"#000000\" points=\"2826.2394,-77.4307 2831.5513,-68.2637 2821.6822,-72.1173 2826.2394,-77.4307\"/>\n</g>\n</g>\n</svg>\n"
          },
          "metadata": {
            "tags": []
          },
          "execution_count": 45
        }
      ]
    },
    {
      "cell_type": "markdown",
      "metadata": {
        "id": "ZwMmr0v8xG_R",
        "colab_type": "text"
      },
      "source": [
        "# Random Forest"
      ]
    },
    {
      "cell_type": "code",
      "metadata": {
        "id": "RlGdyPKftLs7",
        "colab_type": "code",
        "outputId": "8b07e12f-9295-4413-c1fe-a0367745309a",
        "colab": {
          "base_uri": "https://localhost:8080/",
          "height": 34
        }
      },
      "source": [
        "from sklearn.ensemble import RandomForestClassifier\n",
        "\n",
        "clf = RandomForestClassifier(n_estimators=10, max_depth=4)\n",
        "\n",
        "clf = clf.fit(X_train, y_train)\n",
        "\n",
        "predict = clf.predict(X_test)\n",
        "\n",
        "accuracy_score(y_test, predict)"
      ],
      "execution_count": 0,
      "outputs": [
        {
          "output_type": "execute_result",
          "data": {
            "text/plain": [
              "0.8171296296296297"
            ]
          },
          "metadata": {
            "tags": []
          },
          "execution_count": 47
        }
      ]
    },
    {
      "cell_type": "code",
      "metadata": {
        "id": "19kf5u-Xw2GV",
        "colab_type": "code",
        "outputId": "cdac1ee1-daf7-4e1e-c314-1e3c43d278e6",
        "colab": {
          "base_uri": "https://localhost:8080/",
          "height": 886
        }
      },
      "source": [
        "importance = pd.DataFrame(list(zip(importances, feat_labels)), columns=['Importance', 'Name'])\n",
        "importance.sort_values(by='Importance', ascending=False)"
      ],
      "execution_count": 0,
      "outputs": [
        {
          "output_type": "execute_result",
          "data": {
            "text/html": [
              "<div>\n",
              "<style scoped>\n",
              "    .dataframe tbody tr th:only-of-type {\n",
              "        vertical-align: middle;\n",
              "    }\n",
              "\n",
              "    .dataframe tbody tr th {\n",
              "        vertical-align: top;\n",
              "    }\n",
              "\n",
              "    .dataframe thead th {\n",
              "        text-align: right;\n",
              "    }\n",
              "</style>\n",
              "<table border=\"1\" class=\"dataframe\">\n",
              "  <thead>\n",
              "    <tr style=\"text-align: right;\">\n",
              "      <th></th>\n",
              "      <th>Importance</th>\n",
              "      <th>Name</th>\n",
              "    </tr>\n",
              "  </thead>\n",
              "  <tbody>\n",
              "    <tr>\n",
              "      <th>26</th>\n",
              "      <td>0.2</td>\n",
              "      <td>sex_male</td>\n",
              "    </tr>\n",
              "    <tr>\n",
              "      <th>21</th>\n",
              "      <td>0.2</td>\n",
              "      <td>title_Mr</td>\n",
              "    </tr>\n",
              "    <tr>\n",
              "      <th>18</th>\n",
              "      <td>0.1</td>\n",
              "      <td>title_Miss</td>\n",
              "    </tr>\n",
              "    <tr>\n",
              "      <th>22</th>\n",
              "      <td>0.1</td>\n",
              "      <td>title_Mrs</td>\n",
              "    </tr>\n",
              "    <tr>\n",
              "      <th>20</th>\n",
              "      <td>0.1</td>\n",
              "      <td>title_Mme</td>\n",
              "    </tr>\n",
              "    <tr>\n",
              "      <th>0</th>\n",
              "      <td>0.1</td>\n",
              "      <td>age</td>\n",
              "    </tr>\n",
              "    <tr>\n",
              "      <th>2</th>\n",
              "      <td>0.1</td>\n",
              "      <td>siblings</td>\n",
              "    </tr>\n",
              "    <tr>\n",
              "      <th>4</th>\n",
              "      <td>0.1</td>\n",
              "      <td>annual_income</td>\n",
              "    </tr>\n",
              "    <tr>\n",
              "      <th>6</th>\n",
              "      <td>0.0</td>\n",
              "      <td>family_size</td>\n",
              "    </tr>\n",
              "    <tr>\n",
              "      <th>17</th>\n",
              "      <td>0.0</td>\n",
              "      <td>title_Master</td>\n",
              "    </tr>\n",
              "    <tr>\n",
              "      <th>25</th>\n",
              "      <td>0.0</td>\n",
              "      <td>title_Sir</td>\n",
              "    </tr>\n",
              "    <tr>\n",
              "      <th>24</th>\n",
              "      <td>0.0</td>\n",
              "      <td>title_Rev</td>\n",
              "    </tr>\n",
              "    <tr>\n",
              "      <th>23</th>\n",
              "      <td>0.0</td>\n",
              "      <td>title_Ms</td>\n",
              "    </tr>\n",
              "    <tr>\n",
              "      <th>3</th>\n",
              "      <td>0.0</td>\n",
              "      <td>parents_alive</td>\n",
              "    </tr>\n",
              "    <tr>\n",
              "      <th>19</th>\n",
              "      <td>0.0</td>\n",
              "      <td>title_Mlle</td>\n",
              "    </tr>\n",
              "    <tr>\n",
              "      <th>5</th>\n",
              "      <td>0.0</td>\n",
              "      <td>housenumber</td>\n",
              "    </tr>\n",
              "    <tr>\n",
              "      <th>16</th>\n",
              "      <td>0.0</td>\n",
              "      <td>title_Major</td>\n",
              "    </tr>\n",
              "    <tr>\n",
              "      <th>7</th>\n",
              "      <td>0.0</td>\n",
              "      <td>browser_used_Firefox</td>\n",
              "    </tr>\n",
              "    <tr>\n",
              "      <th>15</th>\n",
              "      <td>0.0</td>\n",
              "      <td>title_Lady</td>\n",
              "    </tr>\n",
              "    <tr>\n",
              "      <th>14</th>\n",
              "      <td>0.0</td>\n",
              "      <td>title_Jonkheer</td>\n",
              "    </tr>\n",
              "    <tr>\n",
              "      <th>1</th>\n",
              "      <td>0.0</td>\n",
              "      <td>social_class</td>\n",
              "    </tr>\n",
              "    <tr>\n",
              "      <th>12</th>\n",
              "      <td>0.0</td>\n",
              "      <td>title_Dona</td>\n",
              "    </tr>\n",
              "    <tr>\n",
              "      <th>11</th>\n",
              "      <td>0.0</td>\n",
              "      <td>title_Don</td>\n",
              "    </tr>\n",
              "    <tr>\n",
              "      <th>10</th>\n",
              "      <td>0.0</td>\n",
              "      <td>title_Countess</td>\n",
              "    </tr>\n",
              "    <tr>\n",
              "      <th>9</th>\n",
              "      <td>0.0</td>\n",
              "      <td>title_Col</td>\n",
              "    </tr>\n",
              "    <tr>\n",
              "      <th>8</th>\n",
              "      <td>0.0</td>\n",
              "      <td>browser_used_Internet Explorer</td>\n",
              "    </tr>\n",
              "    <tr>\n",
              "      <th>13</th>\n",
              "      <td>0.0</td>\n",
              "      <td>title_Dr</td>\n",
              "    </tr>\n",
              "  </tbody>\n",
              "</table>\n",
              "</div>"
            ],
            "text/plain": [
              "    Importance                            Name\n",
              "26         0.2                        sex_male\n",
              "21         0.2                        title_Mr\n",
              "18         0.1                      title_Miss\n",
              "22         0.1                       title_Mrs\n",
              "20         0.1                       title_Mme\n",
              "0          0.1                             age\n",
              "2          0.1                        siblings\n",
              "4          0.1                   annual_income\n",
              "6          0.0                     family_size\n",
              "17         0.0                    title_Master\n",
              "25         0.0                       title_Sir\n",
              "24         0.0                       title_Rev\n",
              "23         0.0                        title_Ms\n",
              "3          0.0                   parents_alive\n",
              "19         0.0                      title_Mlle\n",
              "5          0.0                     housenumber\n",
              "16         0.0                     title_Major\n",
              "7          0.0            browser_used_Firefox\n",
              "15         0.0                      title_Lady\n",
              "14         0.0                  title_Jonkheer\n",
              "1          0.0                    social_class\n",
              "12         0.0                      title_Dona\n",
              "11         0.0                       title_Don\n",
              "10         0.0                  title_Countess\n",
              "9          0.0                       title_Col\n",
              "8          0.0  browser_used_Internet Explorer\n",
              "13         0.0                        title_Dr"
            ]
          },
          "metadata": {
            "tags": []
          },
          "execution_count": 48
        }
      ]
    }
  ]
}