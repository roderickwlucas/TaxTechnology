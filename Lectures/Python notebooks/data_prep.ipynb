{
  "nbformat": 4,
  "nbformat_minor": 0,
  "metadata": {
    "colab": {
      "name": "data_prep.ipynb",
      "version": "0.3.2",
      "provenance": [],
      "collapsed_sections": [],
      "toc_visible": true
    },
    "kernelspec": {
      "name": "python3",
      "display_name": "Python 3"
    }
  },
  "cells": [
    {
      "cell_type": "code",
      "metadata": {
        "id": "WGDKownizzH_",
        "colab_type": "code",
        "outputId": "cde9187d-5ae9-4bb9-82f0-1107e4458d81",
        "colab": {
          "base_uri": "https://localhost:8080/",
          "height": 414
        }
      },
      "source": [
        "import pandas as pd\n",
        "import matplotlib as plt\n",
        "\n",
        "url = \"https://raw.githubusercontent.com/roderickwlucas/TaxTechnology/master/Lectures/Big%20Data/Data/tax_fraud.csv\"\n",
        "df = pd.read_csv(url, sep=';')\n",
        "df.head()"
      ],
      "execution_count": 0,
      "outputs": [
        {
          "output_type": "execute_result",
          "data": {
            "text/html": [
              "<div>\n",
              "<style scoped>\n",
              "    .dataframe tbody tr th:only-of-type {\n",
              "        vertical-align: middle;\n",
              "    }\n",
              "\n",
              "    .dataframe tbody tr th {\n",
              "        vertical-align: top;\n",
              "    }\n",
              "\n",
              "    .dataframe thead th {\n",
              "        text-align: right;\n",
              "    }\n",
              "</style>\n",
              "<table border=\"1\" class=\"dataframe\">\n",
              "  <thead>\n",
              "    <tr style=\"text-align: right;\">\n",
              "      <th></th>\n",
              "      <th>id</th>\n",
              "      <th>name</th>\n",
              "      <th>sex</th>\n",
              "      <th>age</th>\n",
              "      <th>social_class</th>\n",
              "      <th>siblings</th>\n",
              "      <th>parents_alive</th>\n",
              "      <th>annual_income</th>\n",
              "      <th>housenumber</th>\n",
              "      <th>browser_used</th>\n",
              "      <th>city</th>\n",
              "      <th>fraud</th>\n",
              "    </tr>\n",
              "  </thead>\n",
              "  <tbody>\n",
              "    <tr>\n",
              "      <th>0</th>\n",
              "      <td>1</td>\n",
              "      <td>Allen, Miss. Elisabeth Walton</td>\n",
              "      <td>female</td>\n",
              "      <td>29.0000</td>\n",
              "      <td>1</td>\n",
              "      <td>0</td>\n",
              "      <td>0</td>\n",
              "      <td>2113375.0</td>\n",
              "      <td>228</td>\n",
              "      <td>Chrome</td>\n",
              "      <td>St Louis, MO</td>\n",
              "      <td>No</td>\n",
              "    </tr>\n",
              "    <tr>\n",
              "      <th>1</th>\n",
              "      <td>2</td>\n",
              "      <td>Allison, Master. Hudson Trevor</td>\n",
              "      <td>male</td>\n",
              "      <td>0.9167</td>\n",
              "      <td>1</td>\n",
              "      <td>1</td>\n",
              "      <td>2</td>\n",
              "      <td>1515500.0</td>\n",
              "      <td>25</td>\n",
              "      <td>Chrome</td>\n",
              "      <td>Montreal, PQ / Chesterville, ON</td>\n",
              "      <td>No</td>\n",
              "    </tr>\n",
              "    <tr>\n",
              "      <th>2</th>\n",
              "      <td>3</td>\n",
              "      <td>Allison, Miss. Helen Loraine</td>\n",
              "      <td>female</td>\n",
              "      <td>2.0000</td>\n",
              "      <td>1</td>\n",
              "      <td>1</td>\n",
              "      <td>2</td>\n",
              "      <td>1515500.0</td>\n",
              "      <td>102</td>\n",
              "      <td>Chrome</td>\n",
              "      <td>Montreal, PQ / Chesterville, ON</td>\n",
              "      <td>Yes</td>\n",
              "    </tr>\n",
              "    <tr>\n",
              "      <th>3</th>\n",
              "      <td>4</td>\n",
              "      <td>Allison, Mr. Hudson Joshua Creighton</td>\n",
              "      <td>male</td>\n",
              "      <td>30.0000</td>\n",
              "      <td>1</td>\n",
              "      <td>1</td>\n",
              "      <td>2</td>\n",
              "      <td>1515500.0</td>\n",
              "      <td>112</td>\n",
              "      <td>Chrome</td>\n",
              "      <td>Montreal, PQ / Chesterville, ON</td>\n",
              "      <td>Yes</td>\n",
              "    </tr>\n",
              "    <tr>\n",
              "      <th>4</th>\n",
              "      <td>5</td>\n",
              "      <td>Allison, Mrs. Hudson J C (Bessie Waldo Daniels)</td>\n",
              "      <td>female</td>\n",
              "      <td>25.0000</td>\n",
              "      <td>1</td>\n",
              "      <td>1</td>\n",
              "      <td>2</td>\n",
              "      <td>1515500.0</td>\n",
              "      <td>232</td>\n",
              "      <td>Chrome</td>\n",
              "      <td>Montreal, PQ / Chesterville, ON</td>\n",
              "      <td>Yes</td>\n",
              "    </tr>\n",
              "  </tbody>\n",
              "</table>\n",
              "</div>"
            ],
            "text/plain": [
              "   id  ... fraud\n",
              "0   1  ...    No\n",
              "1   2  ...    No\n",
              "2   3  ...   Yes\n",
              "3   4  ...   Yes\n",
              "4   5  ...   Yes\n",
              "\n",
              "[5 rows x 12 columns]"
            ]
          },
          "metadata": {
            "tags": []
          },
          "execution_count": 1
        }
      ]
    },
    {
      "cell_type": "code",
      "metadata": {
        "id": "pLp8Ab9analA",
        "colab_type": "code",
        "outputId": "06dc3f3d-bed1-4206-ac2c-552ae9259c90",
        "colab": {
          "base_uri": "https://localhost:8080/",
          "height": 518
        }
      },
      "source": [
        "inhabitants_url = \"https://raw.githubusercontent.com/roderickwlucas/TaxTechnology/master/Lectures/Big%20Data/Data/inhabitants.csv\"\n",
        "df_inhabitants = pd.read_csv(inhabitants_url, sep=';')\n",
        "df.merge(df_inhabitants, on='city', how='left').head()"
      ],
      "execution_count": 0,
      "outputs": [
        {
          "output_type": "execute_result",
          "data": {
            "text/html": [
              "<div>\n",
              "<style scoped>\n",
              "    .dataframe tbody tr th:only-of-type {\n",
              "        vertical-align: middle;\n",
              "    }\n",
              "\n",
              "    .dataframe tbody tr th {\n",
              "        vertical-align: top;\n",
              "    }\n",
              "\n",
              "    .dataframe thead th {\n",
              "        text-align: right;\n",
              "    }\n",
              "</style>\n",
              "<table border=\"1\" class=\"dataframe\">\n",
              "  <thead>\n",
              "    <tr style=\"text-align: right;\">\n",
              "      <th></th>\n",
              "      <th>id</th>\n",
              "      <th>name</th>\n",
              "      <th>sex</th>\n",
              "      <th>age</th>\n",
              "      <th>social_class</th>\n",
              "      <th>siblings</th>\n",
              "      <th>parents_alive</th>\n",
              "      <th>annual_income</th>\n",
              "      <th>housenumber</th>\n",
              "      <th>browser_used</th>\n",
              "      <th>city</th>\n",
              "      <th>fraud</th>\n",
              "      <th>inhabitants</th>\n",
              "    </tr>\n",
              "  </thead>\n",
              "  <tbody>\n",
              "    <tr>\n",
              "      <th>0</th>\n",
              "      <td>1</td>\n",
              "      <td>Allen, Miss. Elisabeth Walton</td>\n",
              "      <td>female</td>\n",
              "      <td>29.0000</td>\n",
              "      <td>1</td>\n",
              "      <td>0</td>\n",
              "      <td>0</td>\n",
              "      <td>2113375.0</td>\n",
              "      <td>228</td>\n",
              "      <td>Chrome</td>\n",
              "      <td>St Louis, MO</td>\n",
              "      <td>No</td>\n",
              "      <td>2246879.0</td>\n",
              "    </tr>\n",
              "    <tr>\n",
              "      <th>1</th>\n",
              "      <td>2</td>\n",
              "      <td>Allison, Master. Hudson Trevor</td>\n",
              "      <td>male</td>\n",
              "      <td>0.9167</td>\n",
              "      <td>1</td>\n",
              "      <td>1</td>\n",
              "      <td>2</td>\n",
              "      <td>1515500.0</td>\n",
              "      <td>25</td>\n",
              "      <td>Chrome</td>\n",
              "      <td>Montreal, PQ / Chesterville, ON</td>\n",
              "      <td>No</td>\n",
              "      <td>2162079.0</td>\n",
              "    </tr>\n",
              "    <tr>\n",
              "      <th>2</th>\n",
              "      <td>3</td>\n",
              "      <td>Allison, Miss. Helen Loraine</td>\n",
              "      <td>female</td>\n",
              "      <td>2.0000</td>\n",
              "      <td>1</td>\n",
              "      <td>1</td>\n",
              "      <td>2</td>\n",
              "      <td>1515500.0</td>\n",
              "      <td>102</td>\n",
              "      <td>Chrome</td>\n",
              "      <td>Montreal, PQ / Chesterville, ON</td>\n",
              "      <td>Yes</td>\n",
              "      <td>2162079.0</td>\n",
              "    </tr>\n",
              "    <tr>\n",
              "      <th>3</th>\n",
              "      <td>4</td>\n",
              "      <td>Allison, Mr. Hudson Joshua Creighton</td>\n",
              "      <td>male</td>\n",
              "      <td>30.0000</td>\n",
              "      <td>1</td>\n",
              "      <td>1</td>\n",
              "      <td>2</td>\n",
              "      <td>1515500.0</td>\n",
              "      <td>112</td>\n",
              "      <td>Chrome</td>\n",
              "      <td>Montreal, PQ / Chesterville, ON</td>\n",
              "      <td>Yes</td>\n",
              "      <td>2162079.0</td>\n",
              "    </tr>\n",
              "    <tr>\n",
              "      <th>4</th>\n",
              "      <td>5</td>\n",
              "      <td>Allison, Mrs. Hudson J C (Bessie Waldo Daniels)</td>\n",
              "      <td>female</td>\n",
              "      <td>25.0000</td>\n",
              "      <td>1</td>\n",
              "      <td>1</td>\n",
              "      <td>2</td>\n",
              "      <td>1515500.0</td>\n",
              "      <td>232</td>\n",
              "      <td>Chrome</td>\n",
              "      <td>Montreal, PQ / Chesterville, ON</td>\n",
              "      <td>Yes</td>\n",
              "      <td>2162079.0</td>\n",
              "    </tr>\n",
              "  </tbody>\n",
              "</table>\n",
              "</div>"
            ],
            "text/plain": [
              "   id                                             name  ... fraud  inhabitants\n",
              "0   1                    Allen, Miss. Elisabeth Walton  ...    No    2246879.0\n",
              "1   2                   Allison, Master. Hudson Trevor  ...    No    2162079.0\n",
              "2   3                     Allison, Miss. Helen Loraine  ...   Yes    2162079.0\n",
              "3   4             Allison, Mr. Hudson Joshua Creighton  ...   Yes    2162079.0\n",
              "4   5  Allison, Mrs. Hudson J C (Bessie Waldo Daniels)  ...   Yes    2162079.0\n",
              "\n",
              "[5 rows x 13 columns]"
            ]
          },
          "metadata": {
            "tags": []
          },
          "execution_count": 5
        }
      ]
    },
    {
      "cell_type": "markdown",
      "metadata": {
        "id": "l5T2cvod7Uts",
        "colab_type": "text"
      },
      "source": [
        "# Data analysis"
      ]
    },
    {
      "cell_type": "code",
      "metadata": {
        "id": "R3HCDSEa-Lju",
        "colab_type": "code",
        "colab": {}
      },
      "source": [
        "n_obs = df.shape[0]"
      ],
      "execution_count": 0,
      "outputs": []
    },
    {
      "cell_type": "code",
      "metadata": {
        "id": "JjoNluBJ-qtK",
        "colab_type": "code",
        "outputId": "9472725f-f31e-48dd-88b0-9a155bfeccad",
        "colab": {
          "base_uri": "https://localhost:8080/",
          "height": 85
        }
      },
      "source": [
        "df.groupby(['fraud'])['id'].count()"
      ],
      "execution_count": 0,
      "outputs": [
        {
          "output_type": "execute_result",
          "data": {
            "text/plain": [
              "fraud\n",
              "No     500\n",
              "Yes    809\n",
              "Name: id, dtype: int64"
            ]
          },
          "metadata": {
            "tags": []
          },
          "execution_count": 24
        }
      ]
    },
    {
      "cell_type": "code",
      "metadata": {
        "id": "WKrzh5sk7Sv1",
        "colab_type": "code",
        "outputId": "b897e616-4bea-40be-d52c-ad8803c19031",
        "colab": {
          "base_uri": "https://localhost:8080/",
          "height": 85
        }
      },
      "source": [
        "df.groupby(['sex'])['id'].count()"
      ],
      "execution_count": 0,
      "outputs": [
        {
          "output_type": "execute_result",
          "data": {
            "text/plain": [
              "sex\n",
              "female    466\n",
              "male      843\n",
              "Name: id, dtype: int64"
            ]
          },
          "metadata": {
            "tags": []
          },
          "execution_count": 25
        }
      ]
    },
    {
      "cell_type": "code",
      "metadata": {
        "id": "GrJer7_e-G89",
        "colab_type": "code",
        "outputId": "9ea9da18-e624-428d-963e-dde68312a4c8",
        "colab": {
          "base_uri": "https://localhost:8080/",
          "height": 119
        }
      },
      "source": [
        "df.groupby(['sex', 'fraud'])['id'].count()"
      ],
      "execution_count": 0,
      "outputs": [
        {
          "output_type": "execute_result",
          "data": {
            "text/plain": [
              "sex     fraud\n",
              "female  No       339\n",
              "        Yes      127\n",
              "male    No       161\n",
              "        Yes      682\n",
              "Name: id, dtype: int64"
            ]
          },
          "metadata": {
            "tags": []
          },
          "execution_count": 26
        }
      ]
    },
    {
      "cell_type": "code",
      "metadata": {
        "id": "Wa94vG5TBMrW",
        "colab_type": "code",
        "outputId": "e2e99520-3915-431b-ddca-7fcfec70d9f2",
        "colab": {
          "base_uri": "https://localhost:8080/",
          "height": 255
        }
      },
      "source": [
        "df.groupby(['siblings', 'fraud'])['id'].count()"
      ],
      "execution_count": 0,
      "outputs": [
        {
          "output_type": "execute_result",
          "data": {
            "text/plain": [
              "siblings  fraud\n",
              "0         No       309\n",
              "          Yes      582\n",
              "1         No       163\n",
              "          Yes      156\n",
              "2         No        19\n",
              "          Yes       23\n",
              "3         No         6\n",
              "          Yes       14\n",
              "4         No         3\n",
              "          Yes       19\n",
              "5         Yes        6\n",
              "8         Yes        9\n",
              "Name: id, dtype: int64"
            ]
          },
          "metadata": {
            "tags": []
          },
          "execution_count": 27
        }
      ]
    },
    {
      "cell_type": "markdown",
      "metadata": {
        "id": "aDLmZYlIFjLg",
        "colab_type": "text"
      },
      "source": [
        "# Missing Values"
      ]
    },
    {
      "cell_type": "code",
      "metadata": {
        "id": "i5CAyiw3FQQH",
        "colab_type": "code",
        "outputId": "a4ad9e92-4096-4828-b781-fb30b75cf792",
        "colab": {
          "base_uri": "https://localhost:8080/",
          "height": 238
        }
      },
      "source": [
        "df.isnull().any()"
      ],
      "execution_count": 0,
      "outputs": [
        {
          "output_type": "execute_result",
          "data": {
            "text/plain": [
              "id               False\n",
              "name             False\n",
              "sex              False\n",
              "age               True\n",
              "social_class     False\n",
              "siblings         False\n",
              "parents_alive    False\n",
              "annual_income     True\n",
              "housenumber      False\n",
              "browser_used     False\n",
              "city              True\n",
              "fraud            False\n",
              "dtype: bool"
            ]
          },
          "metadata": {
            "tags": []
          },
          "execution_count": 28
        }
      ]
    },
    {
      "cell_type": "code",
      "metadata": {
        "id": "Pl-RPnOcYfSB",
        "colab_type": "code",
        "outputId": "45592605-04db-415b-e5d7-165027d3258e",
        "colab": {
          "base_uri": "https://localhost:8080/",
          "height": 286
        }
      },
      "source": [
        "df['annual_income'].plot(kind='hist')"
      ],
      "execution_count": 0,
      "outputs": [
        {
          "output_type": "execute_result",
          "data": {
            "text/plain": [
              "<matplotlib.axes._subplots.AxesSubplot at 0x7f74c5742470>"
            ]
          },
          "metadata": {
            "tags": []
          },
          "execution_count": 29
        },
        {
          "output_type": "display_data",
          "data": {
            "image/png": "[encoded data removed]",
            "text/plain": [
              "<Figure size 432x288 with 1 Axes>"
            ]
          },
          "metadata": {
            "tags": []
          }
        }
      ]
    },
    {
      "cell_type": "code",
      "metadata": {
        "id": "he4OCVRgYuYM",
        "colab_type": "code",
        "outputId": "f0b6c1da-6fa8-4653-dd27-b793f20d31a0",
        "colab": {
          "base_uri": "https://localhost:8080/",
          "height": 286
        }
      },
      "source": [
        "df['age'].plot(kind='hist')"
      ],
      "execution_count": 0,
      "outputs": [
        {
          "output_type": "execute_result",
          "data": {
            "text/plain": [
              "<matplotlib.axes._subplots.AxesSubplot at 0x7f74cee377b8>"
            ]
          },
          "metadata": {
            "tags": []
          },
          "execution_count": 30
        },
        {
          "output_type": "display_data",
          "data": {
            "image/png": "[encoded data removed]",
            "text/plain": [
              "<Figure size 432x288 with 1 Axes>"
            ]
          },
          "metadata": {
            "tags": []
          }
        }
      ]
    },
    {
      "cell_type": "code",
      "metadata": {
        "id": "tFTqyLJvGGPU",
        "colab_type": "code",
        "colab": {}
      },
      "source": [
        "age_impute = df['age'].mean()\n",
        "income_impute = df['annual_income'].median()\n",
        "city_impute = 'Chrome'"
      ],
      "execution_count": 0,
      "outputs": []
    },
    {
      "cell_type": "code",
      "metadata": {
        "id": "DqQmuD_oFsTb",
        "colab_type": "code",
        "colab": {}
      },
      "source": [
        "df[\"age\"].fillna(age_impute, inplace=True)\n",
        "df[\"annual_income\"].fillna(income_impute, inplace=True)\n",
        "df[\"city\"].fillna(city_impute, inplace=True)"
      ],
      "execution_count": 0,
      "outputs": []
    },
    {
      "cell_type": "code",
      "metadata": {
        "id": "0QHiRXxjoN2A",
        "colab_type": "code",
        "colab": {}
      },
      "source": [
        ""
      ],
      "execution_count": 0,
      "outputs": []
    },
    {
      "cell_type": "code",
      "metadata": {
        "id": "cW8FO8uEG0Ex",
        "colab_type": "code",
        "outputId": "985f3e54-2883-4550-947e-b27322711f8f",
        "colab": {
          "base_uri": "https://localhost:8080/",
          "height": 238
        }
      },
      "source": [
        "df.isnull().any()"
      ],
      "execution_count": 0,
      "outputs": [
        {
          "output_type": "execute_result",
          "data": {
            "text/plain": [
              "id               False\n",
              "name             False\n",
              "sex              False\n",
              "age              False\n",
              "social_class     False\n",
              "siblings         False\n",
              "parents_alive    False\n",
              "annual_income    False\n",
              "housenumber      False\n",
              "browser_used     False\n",
              "city             False\n",
              "fraud            False\n",
              "dtype: bool"
            ]
          },
          "metadata": {
            "tags": []
          },
          "execution_count": 33
        }
      ]
    },
    {
      "cell_type": "markdown",
      "metadata": {
        "id": "2dQ16RYRLPLc",
        "colab_type": "text"
      },
      "source": [
        "# Feature engineering"
      ]
    },
    {
      "cell_type": "code",
      "metadata": {
        "id": "WGaJgOCBLOM6",
        "colab_type": "code",
        "outputId": "5caa4a01-8b50-4867-9f47-5102f9791c80",
        "colab": {
          "base_uri": "https://localhost:8080/",
          "height": 272
        }
      },
      "source": [
        "import re\n",
        "\n",
        "df['family_size'] = df['siblings'] + df['parents_alive']\n",
        "df['title'] = df['name'].apply(lambda x: re.search(' ([A-Z][a-z]+)\\.', x).group(1))\n",
        "\n",
        "df.head()"
      ],
      "execution_count": 0,
      "outputs": [
        {
          "output_type": "execute_result",
          "data": {
            "text/html": [
              "<div>\n",
              "<style scoped>\n",
              "    .dataframe tbody tr th:only-of-type {\n",
              "        vertical-align: middle;\n",
              "    }\n",
              "\n",
              "    .dataframe tbody tr th {\n",
              "        vertical-align: top;\n",
              "    }\n",
              "\n",
              "    .dataframe thead th {\n",
              "        text-align: right;\n",
              "    }\n",
              "</style>\n",
              "<table border=\"1\" class=\"dataframe\">\n",
              "  <thead>\n",
              "    <tr style=\"text-align: right;\">\n",
              "      <th></th>\n",
              "      <th>id</th>\n",
              "      <th>name</th>\n",
              "      <th>sex</th>\n",
              "      <th>age</th>\n",
              "      <th>social_class</th>\n",
              "      <th>siblings</th>\n",
              "      <th>parents_alive</th>\n",
              "      <th>annual_income</th>\n",
              "      <th>housenumber</th>\n",
              "      <th>browser_used</th>\n",
              "      <th>city</th>\n",
              "      <th>fraud</th>\n",
              "      <th>family_size</th>\n",
              "      <th>title</th>\n",
              "    </tr>\n",
              "  </thead>\n",
              "  <tbody>\n",
              "    <tr>\n",
              "      <th>0</th>\n",
              "      <td>1</td>\n",
              "      <td>Allen, Miss. Elisabeth Walton</td>\n",
              "      <td>female</td>\n",
              "      <td>29.0000</td>\n",
              "      <td>1</td>\n",
              "      <td>0</td>\n",
              "      <td>0</td>\n",
              "      <td>2113375.0</td>\n",
              "      <td>228</td>\n",
              "      <td>Chrome</td>\n",
              "      <td>St Louis, MO</td>\n",
              "      <td>No</td>\n",
              "      <td>0</td>\n",
              "      <td>Miss</td>\n",
              "    </tr>\n",
              "    <tr>\n",
              "      <th>1</th>\n",
              "      <td>2</td>\n",
              "      <td>Allison, Master. Hudson Trevor</td>\n",
              "      <td>male</td>\n",
              "      <td>0.9167</td>\n",
              "      <td>1</td>\n",
              "      <td>1</td>\n",
              "      <td>2</td>\n",
              "      <td>1515500.0</td>\n",
              "      <td>25</td>\n",
              "      <td>Chrome</td>\n",
              "      <td>Montreal, PQ / Chesterville, ON</td>\n",
              "      <td>No</td>\n",
              "      <td>3</td>\n",
              "      <td>Master</td>\n",
              "    </tr>\n",
              "    <tr>\n",
              "      <th>2</th>\n",
              "      <td>3</td>\n",
              "      <td>Allison, Miss. Helen Loraine</td>\n",
              "      <td>female</td>\n",
              "      <td>2.0000</td>\n",
              "      <td>1</td>\n",
              "      <td>1</td>\n",
              "      <td>2</td>\n",
              "      <td>1515500.0</td>\n",
              "      <td>102</td>\n",
              "      <td>Chrome</td>\n",
              "      <td>Montreal, PQ / Chesterville, ON</td>\n",
              "      <td>Yes</td>\n",
              "      <td>3</td>\n",
              "      <td>Miss</td>\n",
              "    </tr>\n",
              "    <tr>\n",
              "      <th>3</th>\n",
              "      <td>4</td>\n",
              "      <td>Allison, Mr. Hudson Joshua Creighton</td>\n",
              "      <td>male</td>\n",
              "      <td>30.0000</td>\n",
              "      <td>1</td>\n",
              "      <td>1</td>\n",
              "      <td>2</td>\n",
              "      <td>1515500.0</td>\n",
              "      <td>112</td>\n",
              "      <td>Chrome</td>\n",
              "      <td>Montreal, PQ / Chesterville, ON</td>\n",
              "      <td>Yes</td>\n",
              "      <td>3</td>\n",
              "      <td>Mr</td>\n",
              "    </tr>\n",
              "    <tr>\n",
              "      <th>4</th>\n",
              "      <td>5</td>\n",
              "      <td>Allison, Mrs. Hudson J C (Bessie Waldo Daniels)</td>\n",
              "      <td>female</td>\n",
              "      <td>25.0000</td>\n",
              "      <td>1</td>\n",
              "      <td>1</td>\n",
              "      <td>2</td>\n",
              "      <td>1515500.0</td>\n",
              "      <td>232</td>\n",
              "      <td>Chrome</td>\n",
              "      <td>Montreal, PQ / Chesterville, ON</td>\n",
              "      <td>Yes</td>\n",
              "      <td>3</td>\n",
              "      <td>Mrs</td>\n",
              "    </tr>\n",
              "  </tbody>\n",
              "</table>\n",
              "</div>"
            ],
            "text/plain": [
              "   id                                             name     sex      age  \\\n",
              "0   1                    Allen, Miss. Elisabeth Walton  female  29.0000   \n",
              "1   2                   Allison, Master. Hudson Trevor    male   0.9167   \n",
              "2   3                     Allison, Miss. Helen Loraine  female   2.0000   \n",
              "3   4             Allison, Mr. Hudson Joshua Creighton    male  30.0000   \n",
              "4   5  Allison, Mrs. Hudson J C (Bessie Waldo Daniels)  female  25.0000   \n",
              "\n",
              "   social_class  siblings  parents_alive  annual_income  housenumber  \\\n",
              "0             1         0              0      2113375.0          228   \n",
              "1             1         1              2      1515500.0           25   \n",
              "2             1         1              2      1515500.0          102   \n",
              "3             1         1              2      1515500.0          112   \n",
              "4             1         1              2      1515500.0          232   \n",
              "\n",
              "  browser_used                             city fraud  family_size   title  \n",
              "0       Chrome                     St Louis, MO    No            0    Miss  \n",
              "1       Chrome  Montreal, PQ / Chesterville, ON    No            3  Master  \n",
              "2       Chrome  Montreal, PQ / Chesterville, ON   Yes            3    Miss  \n",
              "3       Chrome  Montreal, PQ / Chesterville, ON   Yes            3      Mr  \n",
              "4       Chrome  Montreal, PQ / Chesterville, ON   Yes            3     Mrs  "
            ]
          },
          "metadata": {
            "tags": []
          },
          "execution_count": 34
        }
      ]
    },
    {
      "cell_type": "code",
      "metadata": {
        "id": "c-96cKrPciRp",
        "colab_type": "code",
        "outputId": "88f064f7-078f-4b92-ad5d-7a75c8946970",
        "colab": {
          "base_uri": "https://localhost:8080/",
          "height": 85
        }
      },
      "source": [
        "df.columns"
      ],
      "execution_count": 0,
      "outputs": [
        {
          "output_type": "execute_result",
          "data": {
            "text/plain": [
              "Index(['id', 'name', 'sex', 'age', 'social_class', 'siblings', 'parents_alive',\n",
              "       'annual_income', 'housenumber', 'browser_used', 'city', 'fraud',\n",
              "       'family_size', 'title'],\n",
              "      dtype='object')"
            ]
          },
          "metadata": {
            "tags": []
          },
          "execution_count": 35
        }
      ]
    },
    {
      "cell_type": "markdown",
      "metadata": {
        "id": "HohCgX9mMzgJ",
        "colab_type": "text"
      },
      "source": [
        "# Make machine readible"
      ]
    },
    {
      "cell_type": "code",
      "metadata": {
        "id": "VnL7xJY8LOUc",
        "colab_type": "code",
        "outputId": "8c78f615-4097-44a5-981c-0b83be8f127f",
        "colab": {
          "base_uri": "https://localhost:8080/",
          "height": 559
        }
      },
      "source": [
        "text_columns = ['browser_used', 'title', 'sex']\n",
        "\n",
        "df_dummy = pd.get_dummies(df, columns=text_columns, drop_first=True)\n",
        "\n",
        "df_dummy.head()"
      ],
      "execution_count": 0,
      "outputs": [
        {
          "output_type": "execute_result",
          "data": {
            "text/html": [
              "<div>\n",
              "<style scoped>\n",
              "    .dataframe tbody tr th:only-of-type {\n",
              "        vertical-align: middle;\n",
              "    }\n",
              "\n",
              "    .dataframe tbody tr th {\n",
              "        vertical-align: top;\n",
              "    }\n",
              "\n",
              "    .dataframe thead th {\n",
              "        text-align: right;\n",
              "    }\n",
              "</style>\n",
              "<table border=\"1\" class=\"dataframe\">\n",
              "  <thead>\n",
              "    <tr style=\"text-align: right;\">\n",
              "      <th></th>\n",
              "      <th>id</th>\n",
              "      <th>name</th>\n",
              "      <th>age</th>\n",
              "      <th>social_class</th>\n",
              "      <th>siblings</th>\n",
              "      <th>parents_alive</th>\n",
              "      <th>annual_income</th>\n",
              "      <th>housenumber</th>\n",
              "      <th>city</th>\n",
              "      <th>fraud</th>\n",
              "      <th>...</th>\n",
              "      <th>title_Master</th>\n",
              "      <th>title_Miss</th>\n",
              "      <th>title_Mlle</th>\n",
              "      <th>title_Mme</th>\n",
              "      <th>title_Mr</th>\n",
              "      <th>title_Mrs</th>\n",
              "      <th>title_Ms</th>\n",
              "      <th>title_Rev</th>\n",
              "      <th>title_Sir</th>\n",
              "      <th>sex_male</th>\n",
              "    </tr>\n",
              "  </thead>\n",
              "  <tbody>\n",
              "    <tr>\n",
              "      <th>0</th>\n",
              "      <td>1</td>\n",
              "      <td>Allen, Miss. Elisabeth Walton</td>\n",
              "      <td>29.0000</td>\n",
              "      <td>1</td>\n",
              "      <td>0</td>\n",
              "      <td>0</td>\n",
              "      <td>2113375.0</td>\n",
              "      <td>228</td>\n",
              "      <td>St Louis, MO</td>\n",
              "      <td>No</td>\n",
              "      <td>...</td>\n",
              "      <td>0</td>\n",
              "      <td>1</td>\n",
              "      <td>0</td>\n",
              "      <td>0</td>\n",
              "      <td>0</td>\n",
              "      <td>0</td>\n",
              "      <td>0</td>\n",
              "      <td>0</td>\n",
              "      <td>0</td>\n",
              "      <td>0</td>\n",
              "    </tr>\n",
              "    <tr>\n",
              "      <th>1</th>\n",
              "      <td>2</td>\n",
              "      <td>Allison, Master. Hudson Trevor</td>\n",
              "      <td>0.9167</td>\n",
              "      <td>1</td>\n",
              "      <td>1</td>\n",
              "      <td>2</td>\n",
              "      <td>1515500.0</td>\n",
              "      <td>25</td>\n",
              "      <td>Montreal, PQ / Chesterville, ON</td>\n",
              "      <td>No</td>\n",
              "      <td>...</td>\n",
              "      <td>1</td>\n",
              "      <td>0</td>\n",
              "      <td>0</td>\n",
              "      <td>0</td>\n",
              "      <td>0</td>\n",
              "      <td>0</td>\n",
              "      <td>0</td>\n",
              "      <td>0</td>\n",
              "      <td>0</td>\n",
              "      <td>1</td>\n",
              "    </tr>\n",
              "    <tr>\n",
              "      <th>2</th>\n",
              "      <td>3</td>\n",
              "      <td>Allison, Miss. Helen Loraine</td>\n",
              "      <td>2.0000</td>\n",
              "      <td>1</td>\n",
              "      <td>1</td>\n",
              "      <td>2</td>\n",
              "      <td>1515500.0</td>\n",
              "      <td>102</td>\n",
              "      <td>Montreal, PQ / Chesterville, ON</td>\n",
              "      <td>Yes</td>\n",
              "      <td>...</td>\n",
              "      <td>0</td>\n",
              "      <td>1</td>\n",
              "      <td>0</td>\n",
              "      <td>0</td>\n",
              "      <td>0</td>\n",
              "      <td>0</td>\n",
              "      <td>0</td>\n",
              "      <td>0</td>\n",
              "      <td>0</td>\n",
              "      <td>0</td>\n",
              "    </tr>\n",
              "    <tr>\n",
              "      <th>3</th>\n",
              "      <td>4</td>\n",
              "      <td>Allison, Mr. Hudson Joshua Creighton</td>\n",
              "      <td>30.0000</td>\n",
              "      <td>1</td>\n",
              "      <td>1</td>\n",
              "      <td>2</td>\n",
              "      <td>1515500.0</td>\n",
              "      <td>112</td>\n",
              "      <td>Montreal, PQ / Chesterville, ON</td>\n",
              "      <td>Yes</td>\n",
              "      <td>...</td>\n",
              "      <td>0</td>\n",
              "      <td>0</td>\n",
              "      <td>0</td>\n",
              "      <td>0</td>\n",
              "      <td>1</td>\n",
              "      <td>0</td>\n",
              "      <td>0</td>\n",
              "      <td>0</td>\n",
              "      <td>0</td>\n",
              "      <td>1</td>\n",
              "    </tr>\n",
              "    <tr>\n",
              "      <th>4</th>\n",
              "      <td>5</td>\n",
              "      <td>Allison, Mrs. Hudson J C (Bessie Waldo Daniels)</td>\n",
              "      <td>25.0000</td>\n",
              "      <td>1</td>\n",
              "      <td>1</td>\n",
              "      <td>2</td>\n",
              "      <td>1515500.0</td>\n",
              "      <td>232</td>\n",
              "      <td>Montreal, PQ / Chesterville, ON</td>\n",
              "      <td>Yes</td>\n",
              "      <td>...</td>\n",
              "      <td>0</td>\n",
              "      <td>0</td>\n",
              "      <td>0</td>\n",
              "      <td>0</td>\n",
              "      <td>0</td>\n",
              "      <td>1</td>\n",
              "      <td>0</td>\n",
              "      <td>0</td>\n",
              "      <td>0</td>\n",
              "      <td>0</td>\n",
              "    </tr>\n",
              "  </tbody>\n",
              "</table>\n",
              "<p>5 rows × 31 columns</p>\n",
              "</div>"
            ],
            "text/plain": [
              "   id                                             name      age  social_class  \\\n",
              "0   1                    Allen, Miss. Elisabeth Walton  29.0000             1   \n",
              "1   2                   Allison, Master. Hudson Trevor   0.9167             1   \n",
              "2   3                     Allison, Miss. Helen Loraine   2.0000             1   \n",
              "3   4             Allison, Mr. Hudson Joshua Creighton  30.0000             1   \n",
              "4   5  Allison, Mrs. Hudson J C (Bessie Waldo Daniels)  25.0000             1   \n",
              "\n",
              "   siblings  parents_alive  annual_income  housenumber  \\\n",
              "0         0              0      2113375.0          228   \n",
              "1         1              2      1515500.0           25   \n",
              "2         1              2      1515500.0          102   \n",
              "3         1              2      1515500.0          112   \n",
              "4         1              2      1515500.0          232   \n",
              "\n",
              "                              city fraud  ...  title_Master  title_Miss  \\\n",
              "0                     St Louis, MO    No  ...             0           1   \n",
              "1  Montreal, PQ / Chesterville, ON    No  ...             1           0   \n",
              "2  Montreal, PQ / Chesterville, ON   Yes  ...             0           1   \n",
              "3  Montreal, PQ / Chesterville, ON   Yes  ...             0           0   \n",
              "4  Montreal, PQ / Chesterville, ON   Yes  ...             0           0   \n",
              "\n",
              "   title_Mlle  title_Mme  title_Mr  title_Mrs  title_Ms  title_Rev  title_Sir  \\\n",
              "0           0          0         0          0         0          0          0   \n",
              "1           0          0         0          0         0          0          0   \n",
              "2           0          0         0          0         0          0          0   \n",
              "3           0          0         1          0         0          0          0   \n",
              "4           0          0         0          1         0          0          0   \n",
              "\n",
              "   sex_male  \n",
              "0         0  \n",
              "1         1  \n",
              "2         0  \n",
              "3         1  \n",
              "4         0  \n",
              "\n",
              "[5 rows x 31 columns]"
            ]
          },
          "metadata": {
            "tags": []
          },
          "execution_count": 36
        }
      ]
    },
    {
      "cell_type": "code",
      "metadata": {
        "id": "xd-JuJd1RdQZ",
        "colab_type": "code",
        "colab": {}
      },
      "source": [
        ""
      ],
      "execution_count": 0,
      "outputs": []
    },
    {
      "cell_type": "code",
      "metadata": {
        "id": "AtuM2MmqeXq4",
        "colab_type": "code",
        "colab": {}
      },
      "source": [
        "fraud_map = {'Yes': 1, 'No': 0}\n",
        "y = df['fraud'].map(fraud_map)\n",
        "\n",
        "drop_columns = ['id', 'name', 'city', 'fraud']\n",
        "X = df_dummy.drop(columns=drop_columns)"
      ],
      "execution_count": 0,
      "outputs": []
    },
    {
      "cell_type": "code",
      "metadata": {
        "id": "1ruQyNb5kefl",
        "colab_type": "code",
        "colab": {}
      },
      "source": [
        "X.to_csv('X.csv', sep=';', index=False, header=True)\n",
        "y.to_csv('y.csv', sep=';', index=False, header=True)"
      ],
      "execution_count": 0,
      "outputs": []
    },
    {
      "cell_type": "markdown",
      "metadata": {
        "id": "HNP9Ko7wkEuI",
        "colab_type": "text"
      },
      "source": [
        ""
      ]
    },
    {
      "cell_type": "code",
      "metadata": {
        "id": "pRA4BhHukE3q",
        "colab_type": "code",
        "outputId": "b699f2da-8953-4f88-9495-7fde52c82a2c",
        "colab": {
          "base_uri": "https://localhost:8080/",
          "height": 34
        }
      },
      "source": [
        "y.shape[0] == X.shape[0]"
      ],
      "execution_count": 0,
      "outputs": [
        {
          "output_type": "execute_result",
          "data": {
            "text/plain": [
              "True"
            ]
          },
          "metadata": {
            "tags": []
          },
          "execution_count": 57
        }
      ]
    }
  ]
}