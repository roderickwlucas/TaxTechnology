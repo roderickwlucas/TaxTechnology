{
  "nbformat": 4,
  "nbformat_minor": 0,
  "metadata": {
    "colab": {
      "name": "vat_calculator.ipynb",
      "version": "0.3.2",
      "provenance": []
    },
    "kernelspec": {
      "name": "python3",
      "display_name": "Python 3"
    }
  },
  "cells": [
    {
      "cell_type": "code",
      "metadata": {
        "id": "9fsnGEGCu-i8",
        "colab_type": "code",
        "outputId": "fdecd59d-7542-4ca5-e326-20080ef2906a",
        "colab": {
          "base_uri": "https://localhost:8080/",
          "height": 218
        }
      },
      "source": [
        "amounts_without_vat = [(10, \"high\"),(25, \"low\"),(60, \"zero\")]\n",
        "\n",
        "def add_vat(amount, rate):\n",
        "  high_rate = 1.21\n",
        "  low_rate = 1.06\n",
        "  \n",
        "  if rate == 'high':\n",
        "    amount_with_vat = amount*high_rate\n",
        "  elif rate == \"low\":\n",
        "    amount_with_vat = amount*low_rate\n",
        "  else:\n",
        "    amount_with_vat = amount\n",
        "    \n",
        "  return amount_with_vat\n",
        "\n",
        "for amount_without_vat in amounts_without_vat:\n",
        "  print(\"Value without VAT was EUR \", amount_without_vat[0])\n",
        "  print(\"Added the\", amount_without_vat[1],\" VAT rate\")\n",
        "  print(\"Total is now EUR \", add_vat(amount_without_vat[0], amount_without_vat[1]))\n",
        "  print()"
      ],
      "execution_count": 0,
      "outputs": [
        {
          "output_type": "stream",
          "text": [
            "Value without VAT was EUR  10\n",
            "Added the high  VAT rate\n",
            "Total is now EUR  12.1\n",
            "\n",
            "Value without VAT was EUR  25\n",
            "Added the low  VAT rate\n",
            "Total is now EUR  26.5\n",
            "\n",
            "Value without VAT was EUR  60\n",
            "Added the zero  VAT rate\n",
            "Total is now EUR  60\n",
            "\n"
          ],
          "name": "stdout"
        }
      ]
    },
    {
      "cell_type": "code",
      "metadata": {
        "id": "uRncfAoaCSxU",
        "colab_type": "code",
        "colab": {}
      },
      "source": [
        ""
      ],
      "execution_count": 0,
      "outputs": []
    },
    {
      "cell_type": "code",
      "metadata": {
        "id": "NKPZb2l-yPY_",
        "colab_type": "code",
        "colab": {}
      },
      "source": [
        ""
      ],
      "execution_count": 0,
      "outputs": []
    }
  ]
}